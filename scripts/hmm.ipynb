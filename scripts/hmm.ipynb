{
 "cells": [
  {
   "cell_type": "code",
   "execution_count": 1,
   "id": "ddf705f4",
   "metadata": {},
   "outputs": [],
   "source": [
    "import numpy as np\n",
    "import pandas as pd\n",
    "import matplotlib.pyplot as plt\n",
    "import random\n",
    "from utils import *"
   ]
  },
  {
   "cell_type": "code",
   "execution_count": 2,
   "id": "bb5226b9",
   "metadata": {},
   "outputs": [
    {
     "data": {
      "text/html": [
       "<div>\n",
       "<style scoped>\n",
       "    .dataframe tbody tr th:only-of-type {\n",
       "        vertical-align: middle;\n",
       "    }\n",
       "\n",
       "    .dataframe tbody tr th {\n",
       "        vertical-align: top;\n",
       "    }\n",
       "\n",
       "    .dataframe thead th {\n",
       "        text-align: right;\n",
       "    }\n",
       "</style>\n",
       "<table border=\"1\" class=\"dataframe\">\n",
       "  <thead>\n",
       "    <tr style=\"text-align: right;\">\n",
       "      <th></th>\n",
       "      <th>priceclose</th>\n",
       "      <th>r1</th>\n",
       "      <th>signal</th>\n",
       "    </tr>\n",
       "    <tr>\n",
       "      <th>pricingdate</th>\n",
       "      <th></th>\n",
       "      <th></th>\n",
       "      <th></th>\n",
       "    </tr>\n",
       "  </thead>\n",
       "  <tbody>\n",
       "    <tr>\n",
       "      <th>2018-06-12</th>\n",
       "      <td>1293.170013</td>\n",
       "      <td>0.002628</td>\n",
       "      <td>1</td>\n",
       "    </tr>\n",
       "    <tr>\n",
       "      <th>2018-06-13</th>\n",
       "      <td>1296.170003</td>\n",
       "      <td>0.002320</td>\n",
       "      <td>1</td>\n",
       "    </tr>\n",
       "    <tr>\n",
       "      <th>2018-06-14</th>\n",
       "      <td>1303.909986</td>\n",
       "      <td>0.005971</td>\n",
       "      <td>1</td>\n",
       "    </tr>\n",
       "    <tr>\n",
       "      <th>2018-06-15</th>\n",
       "      <td>1308.450022</td>\n",
       "      <td>0.003482</td>\n",
       "      <td>1</td>\n",
       "    </tr>\n",
       "    <tr>\n",
       "      <th>2018-06-18</th>\n",
       "      <td>1299.859995</td>\n",
       "      <td>-0.006565</td>\n",
       "      <td>0</td>\n",
       "    </tr>\n",
       "    <tr>\n",
       "      <th>...</th>\n",
       "      <td>...</td>\n",
       "      <td>...</td>\n",
       "      <td>...</td>\n",
       "    </tr>\n",
       "    <tr>\n",
       "      <th>2022-05-24</th>\n",
       "      <td>1871.590002</td>\n",
       "      <td>0.002630</td>\n",
       "      <td>1</td>\n",
       "    </tr>\n",
       "    <tr>\n",
       "      <th>2022-05-25</th>\n",
       "      <td>1913.690022</td>\n",
       "      <td>0.022494</td>\n",
       "      <td>1</td>\n",
       "    </tr>\n",
       "    <tr>\n",
       "      <th>2022-05-26</th>\n",
       "      <td>1923.819968</td>\n",
       "      <td>0.005293</td>\n",
       "      <td>1</td>\n",
       "    </tr>\n",
       "    <tr>\n",
       "      <th>2022-05-27</th>\n",
       "      <td>1967.990009</td>\n",
       "      <td>0.022960</td>\n",
       "      <td>1</td>\n",
       "    </tr>\n",
       "    <tr>\n",
       "      <th>2022-05-31</th>\n",
       "      <td>1934.319976</td>\n",
       "      <td>-0.017109</td>\n",
       "      <td>0</td>\n",
       "    </tr>\n",
       "  </tbody>\n",
       "</table>\n",
       "<p>1000 rows × 3 columns</p>\n",
       "</div>"
      ],
      "text/plain": [
       "              priceclose        r1  signal\n",
       "pricingdate                               \n",
       "2018-06-12   1293.170013  0.002628       1\n",
       "2018-06-13   1296.170003  0.002320       1\n",
       "2018-06-14   1303.909986  0.005971       1\n",
       "2018-06-15   1308.450022  0.003482       1\n",
       "2018-06-18   1299.859995 -0.006565       0\n",
       "...                  ...       ...     ...\n",
       "2022-05-24   1871.590002  0.002630       1\n",
       "2022-05-25   1913.690022  0.022494       1\n",
       "2022-05-26   1923.819968  0.005293       1\n",
       "2022-05-27   1967.990009  0.022960       1\n",
       "2022-05-31   1934.319976 -0.017109       0\n",
       "\n",
       "[1000 rows x 3 columns]"
      ]
     },
     "execution_count": 2,
     "metadata": {},
     "output_type": "execute_result"
    }
   ],
   "source": [
    "df = pd.read_csv('../HMM_randomportfolio.csv')\n",
    "df.pricingdate = df.pricingdate.astype('datetime64')\n",
    "df = df.tail(1000)\n",
    "df = df.set_index(df.pricingdate).drop('pricingdate', axis=1)\n",
    "df"
   ]
  },
  {
   "cell_type": "code",
   "execution_count": 3,
   "id": "91cd30fa",
   "metadata": {},
   "outputs": [
    {
     "data": {
      "text/plain": [
       "[<matplotlib.lines.Line2D at 0x7f6b646d8fd0>]"
      ]
     },
     "execution_count": 3,
     "metadata": {},
     "output_type": "execute_result"
    },
    {
     "data": {
      "image/png": "[encoded data removed]",
      "text/plain": [
       "<Figure size 432x288 with 1 Axes>"
      ]
     },
     "metadata": {
      "needs_background": "light"
     },
     "output_type": "display_data"
    }
   ],
   "source": [
    "plt.plot(df.priceclose)"
   ]
  },
  {
   "cell_type": "code",
   "execution_count": 4,
   "id": "4e8b2861",
   "metadata": {},
   "outputs": [],
   "source": [
    "def initialize_parameters(n_hidden, n_visible, random_state = 30):\n",
    "    random.seed(random_state)\n",
    "    \n",
    "    A = rand_mat(n_hidden, n_hidden)        \n",
    "    B = rand_mat(n_hidden,n_visible)    \n",
    "    pi = np.array([np.mean(A[:,i]) for i in range(n_hidden)])\n",
    "\n",
    "    return A, B, pi"
   ]
  },
  {
   "cell_type": "code",
   "execution_count": 5,
   "id": "18e99549",
   "metadata": {},
   "outputs": [],
   "source": [
    "S = ['B','H','S'] # buy, hold, sell"
   ]
  },
  {
   "cell_type": "code",
   "execution_count": 6,
   "id": "3d5a1f78",
   "metadata": {},
   "outputs": [],
   "source": [
    "n_visible = len(df.signal.unique())\n",
    "n_hidden = len(S)"
   ]
  },
  {
   "cell_type": "code",
   "execution_count": 7,
   "id": "27bd356a",
   "metadata": {},
   "outputs": [],
   "source": [
    "A, B, pi = initialize_parameters(n_hidden, n_visible, 30)"
   ]
  },
  {
   "cell_type": "code",
   "execution_count": 8,
   "id": "3b296abe",
   "metadata": {},
   "outputs": [],
   "source": [
    "def forward(V, A, B, pi):\n",
    "    T = V.shape[0]\n",
    "    N = A.shape[0]\n",
    "    \n",
    "    alpha = np.zeros((T,N))\n",
    "    alpha[0] = pi[0] * B[:,V[0]]  \n",
    "    for t in range(0,T-1): alpha[t+1] = np.array([alpha[t,:].dot(A[:,j]) * (B[j,V[t+1]]) for j in range(N)])\n",
    "            \n",
    "    return alpha"
   ]
  },
  {
   "cell_type": "code",
   "execution_count": 9,
   "id": "f8600d40",
   "metadata": {},
   "outputs": [],
   "source": [
    "def backward(V, A, B):\n",
    "    T = V.shape[0]\n",
    "    N = A.shape[0]\n",
    "    \n",
    "    beta = np.zeros((T,N))\n",
    "    beta[T-1] = np.ones((N))\n",
    "    for t in range(T-2, -1, -1): beta[t] = np.array([(beta[t+1,:] * B[:,V[t+1]]).dot(A[j,:]) for j in range(N)])\n",
    "            \n",
    "    return beta"
   ]
  },
  {
   "cell_type": "code",
   "execution_count": 10,
   "id": "2180554c",
   "metadata": {},
   "outputs": [],
   "source": [
    "def baum_welch(V, A, B, pi, max_iter=100, epsilon=5e-3):\n",
    "    T = V.shape[0]\n",
    "    N = A.shape[0]\n",
    "    \n",
    "    # initialization: for the first iteration, our estimated parameters will be the initial ones\n",
    "    A_bar = A\n",
    "    B_bar = B\n",
    "    pi_bar = pi\n",
    "    \n",
    "    for iteration in range(max_iter):\n",
    "        alpha = forward(V, A_bar, B_bar, pi_bar)\n",
    "        beta = backward(V, A_bar, B_bar)\n",
    "\n",
    "        xi = np.zeros((T, N, N))\n",
    "        for t in range(T-1):\n",
    "            denominator = sum(alpha[t,:].dot(A_bar[:,:]) * B_bar[:,V[t+1]] * beta[t+1,:])\n",
    "            for i in range(N):\n",
    "                for j in range(N):\n",
    "                    numerator = alpha[t,i] * A_bar[i,j] * (B_bar[j,V[t+1]]) * beta[t+1,j] \n",
    "                    xi[t,i,j] = numerator / denominator \n",
    "\n",
    "        # note: gamma can be also computed as\n",
    "        gamma = np.zeros((T,N))\n",
    "        for t in range(T): gamma[t] = np.array([sum(xi[t,i,:]) for i in range(N)])\n",
    "\n",
    "        # expectation-maximization step\n",
    "        pi_bar = np.array([gamma[0,i] for i in range(N)])\n",
    "\n",
    "        prev = [A_bar, B_bar, pi_bar]\n",
    "               \n",
    "        A_bar = np.zeros((N,N))\n",
    "        for i in range(N): A_bar[i] = np.array([xi[:-1,i,j].sum() / gamma[:-1,i].sum() for j in range(N)])\n",
    "\n",
    "        B_bar = np.zeros(B.shape)\n",
    "        for j in range(B.shape[0]):\n",
    "            for k in range(B.shape[1]):\n",
    "                # we need to define a list of times t_bar where V[t] is equal to k\n",
    "                t_bar = [0,0]\n",
    "                for i in sorted(V.unique()): t_bar[i] = [t for t in range(T) if V[t]==k]\n",
    "                B_bar[j,k] = sum([gamma[t,j] for t in t_bar[k]]) / gamma[:,j].sum()\n",
    "        \n",
    "        A_delta = delta(A_bar, prev[0])\n",
    "        B_delta = delta(B_bar, prev[1])\n",
    "        pi_delta = delta(pi_bar, prev[2])\n",
    "        \n",
    "        e = A_delta + B_delta + pi_delta\n",
    "        \n",
    "        print(f'iteration {iteration} - delta {e}')\n",
    "        if e < epsilon: break\n",
    "\n",
    "    return {'A_hat': A_bar, 'B_hat': B_bar, 'pi_hat': pi_bar}"
   ]
  },
  {
   "cell_type": "code",
   "execution_count": 11,
   "id": "1c432c34",
   "metadata": {
    "scrolled": true
   },
   "outputs": [
    {
     "name": "stderr",
     "output_type": "stream",
     "text": [
      "/tmp/ipykernel_68960/1898917675.py:20: RuntimeWarning: invalid value encountered in double_scalars\n",
      "  xi[t,i,j] = numerator / denominator\n"
     ]
    },
    {
     "name": "stdout",
     "output_type": "stream",
     "text": [
      "iteration 0 - delta nan\n",
      "iteration 1 - delta nan\n",
      "iteration 2 - delta nan\n",
      "iteration 3 - delta nan\n",
      "iteration 4 - delta nan\n",
      "iteration 5 - delta nan\n",
      "iteration 6 - delta nan\n",
      "iteration 7 - delta nan\n",
      "iteration 8 - delta nan\n",
      "iteration 9 - delta nan\n",
      "iteration 10 - delta nan\n",
      "iteration 11 - delta nan\n",
      "iteration 12 - delta nan\n",
      "iteration 13 - delta nan\n",
      "iteration 14 - delta nan\n",
      "iteration 15 - delta nan\n",
      "iteration 16 - delta nan\n",
      "iteration 17 - delta nan\n",
      "iteration 18 - delta nan\n",
      "iteration 19 - delta nan\n",
      "iteration 20 - delta nan\n",
      "iteration 21 - delta nan\n",
      "iteration 22 - delta nan\n",
      "iteration 23 - delta nan\n",
      "iteration 24 - delta nan\n",
      "iteration 25 - delta nan\n",
      "iteration 26 - delta nan\n",
      "iteration 27 - delta nan\n",
      "iteration 28 - delta nan\n",
      "iteration 29 - delta nan\n",
      "iteration 30 - delta nan\n",
      "iteration 31 - delta nan\n",
      "iteration 32 - delta nan\n",
      "iteration 33 - delta nan\n",
      "iteration 34 - delta nan\n",
      "iteration 35 - delta nan\n",
      "iteration 36 - delta nan\n",
      "iteration 37 - delta nan\n",
      "iteration 38 - delta nan\n",
      "iteration 39 - delta nan\n",
      "iteration 40 - delta nan\n",
      "iteration 41 - delta nan\n",
      "iteration 42 - delta nan\n",
      "iteration 43 - delta nan\n",
      "iteration 44 - delta nan\n",
      "iteration 45 - delta nan\n",
      "iteration 46 - delta nan\n",
      "iteration 47 - delta nan\n",
      "iteration 48 - delta nan\n",
      "iteration 49 - delta nan\n",
      "iteration 50 - delta nan\n",
      "iteration 51 - delta nan\n",
      "iteration 52 - delta nan\n",
      "iteration 53 - delta nan\n",
      "iteration 54 - delta nan\n",
      "iteration 55 - delta nan\n",
      "iteration 56 - delta nan\n",
      "iteration 57 - delta nan\n",
      "iteration 58 - delta nan\n",
      "iteration 59 - delta nan\n",
      "iteration 60 - delta nan\n",
      "iteration 61 - delta nan\n",
      "iteration 62 - delta nan\n",
      "iteration 63 - delta nan\n",
      "iteration 64 - delta nan\n",
      "iteration 65 - delta nan\n",
      "iteration 66 - delta nan\n",
      "iteration 67 - delta nan\n",
      "iteration 68 - delta nan\n",
      "iteration 69 - delta nan\n",
      "iteration 70 - delta nan\n",
      "iteration 71 - delta nan\n",
      "iteration 72 - delta nan\n",
      "iteration 73 - delta nan\n",
      "iteration 74 - delta nan\n",
      "iteration 75 - delta nan\n",
      "iteration 76 - delta nan\n",
      "iteration 77 - delta nan\n",
      "iteration 78 - delta nan\n",
      "iteration 79 - delta nan\n",
      "iteration 80 - delta nan\n",
      "iteration 81 - delta nan\n",
      "iteration 82 - delta nan\n",
      "iteration 83 - delta nan\n",
      "iteration 84 - delta nan\n",
      "iteration 85 - delta nan\n",
      "iteration 86 - delta nan\n",
      "iteration 87 - delta nan\n",
      "iteration 88 - delta nan\n",
      "iteration 89 - delta nan\n",
      "iteration 90 - delta nan\n",
      "iteration 91 - delta nan\n",
      "iteration 92 - delta nan\n",
      "iteration 93 - delta nan\n",
      "iteration 94 - delta nan\n",
      "iteration 95 - delta nan\n",
      "iteration 96 - delta nan\n",
      "iteration 97 - delta nan\n",
      "iteration 98 - delta nan\n",
      "iteration 99 - delta nan\n"
     ]
    },
    {
     "data": {
      "text/plain": [
       "{'A_hat': array([[nan, nan, nan],\n",
       "        [nan, nan, nan],\n",
       "        [nan, nan, nan]]),\n",
       " 'B_hat': array([[nan, nan],\n",
       "        [nan, nan],\n",
       "        [nan, nan]]),\n",
       " 'pi_hat': array([nan, nan, nan])}"
      ]
     },
     "execution_count": 11,
     "metadata": {},
     "output_type": "execute_result"
    }
   ],
   "source": [
    "est= baum_welch(df.signal, A, B, pi)\n",
    "est"
   ]
  },
  {
   "cell_type": "code",
   "execution_count": 12,
   "id": "a5eea820",
   "metadata": {},
   "outputs": [
    {
     "data": {
      "text/plain": [
       "1"
      ]
     },
     "execution_count": 12,
     "metadata": {},
     "output_type": "execute_result"
    }
   ],
   "source": [
    "len(pi.shape)"
   ]
  },
  {
   "cell_type": "code",
   "execution_count": 13,
   "id": "99c5ac63",
   "metadata": {},
   "outputs": [],
   "source": [
    "def viterbi(V, a, b, initial_distribution):\n",
    "    T = V.shape[0]\n",
    "    M = a.shape[0]\n",
    " \n",
    "    omega = np.zeros((T, M))\n",
    "    omega[0, :] = np.log(initial_distribution * b[:, V[0]])\n",
    " \n",
    "    prev = np.zeros((T - 1, M))\n",
    " \n",
    "    for t in range(1, T):\n",
    "        for j in range(M):\n",
    "            # Same as Forward Probability\n",
    "            probability = omega[t - 1] + np.log(a[:, j]) + np.log(b[j, V[t]])\n",
    " \n",
    "            # This is our most probable state given previous state at time t (1)\n",
    "            prev[t - 1, j] = np.argmax(probability)\n",
    " \n",
    "            # This is the probability of the most probable state (2)\n",
    "            omega[t, j] = np.max(probability)\n",
    " \n",
    "    # Path Array\n",
    "    S = np.zeros(T)\n",
    " \n",
    "    # Find the most probable last hidden state\n",
    "    last_state = np.argmax(omega[T - 1, :])\n",
    " \n",
    "    S[0] = last_state\n",
    " \n",
    "    backtrack_index = 1\n",
    "    for i in range(T - 2, -1, -1):\n",
    "        S[backtrack_index] = prev[i, int(last_state)]\n",
    "        last_state = prev[i, int(last_state)]\n",
    "        backtrack_index += 1\n",
    " \n",
    "    # Flip the path array since we were backtracking\n",
    "    S = np.flip(S, axis=0)\n",
    " \n",
    "    # Convert numeric values to actual hidden states\n",
    "    result = []\n",
    "    for s in S:\n",
    "        if s == 0:\n",
    "            result.append(\"A\")\n",
    "        else:\n",
    "            result.append(\"B\")\n",
    " \n",
    "    return result"
   ]
  },
  {
   "cell_type": "code",
   "execution_count": 14,
   "id": "c0916323",
   "metadata": {},
   "outputs": [],
   "source": [
    "f =np.zeros((1,3))"
   ]
  },
  {
   "cell_type": "code",
   "execution_count": null,
   "id": "f14704ef",
   "metadata": {},
   "outputs": [],
   "source": []
  }
 ],
 "metadata": {
  "kernelspec": {
   "display_name": "Python 3 (ipykernel)",
   "language": "python",
   "name": "python3"
  },
  "language_info": {
   "codemirror_mode": {
    "name": "ipython",
    "version": 3
   },
   "file_extension": ".py",
   "mimetype": "text/x-python",
   "name": "python",
   "nbconvert_exporter": "python",
   "pygments_lexer": "ipython3",
   "version": "3.8.8"
  }
 },
 "nbformat": 4,
 "nbformat_minor": 5
}
