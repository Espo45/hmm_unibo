{
 "cells": [
  {
   "cell_type": "code",
   "execution_count": null,
   "id": "ddf705f4",
   "metadata": {},
   "outputs": [],
   "source": [
    "import numpy as np\n",
    "import pandas as pd\n",
    "import matplotlib.pyplot as plt\n",
    "import random\n",
    "import warnings\n",
    "from utils import *"
   ]
  },
  {
   "cell_type": "code",
   "execution_count": null,
   "id": "9aee8779",
   "metadata": {},
   "outputs": [],
   "source": []
  },
  {
   "cell_type": "code",
   "execution_count": null,
   "id": "bb5226b9",
   "metadata": {},
   "outputs": [],
   "source": [
    "df = pd.read_csv('../HMM_randomportfolio.csv')\n",
    "df.pricingdate = df.pricingdate.astype('datetime64')\n",
    "df = df.tail(1500)\n",
    "df = df.set_index(df.pricingdate).drop('pricingdate', axis=1)\n",
    "df['predicted'] = np.zeros(len(df.priceclose))\n",
    "df"
   ]
  },
  {
   "cell_type": "code",
   "execution_count": null,
   "id": "91cd30fa",
   "metadata": {},
   "outputs": [],
   "source": [
    "plt.plot(df.priceclose)"
   ]
  },
  {
   "cell_type": "code",
   "execution_count": null,
   "id": "18e99549",
   "metadata": {},
   "outputs": [],
   "source": [
    "S = ['B','S'] # buy, hold, sell"
   ]
  },
  {
   "cell_type": "code",
   "execution_count": null,
   "id": "3d5a1f78",
   "metadata": {},
   "outputs": [],
   "source": [
    "n_visible = len(df.signal.unique())\n",
    "n_hidden = len(S)"
   ]
  },
  {
   "cell_type": "code",
   "execution_count": null,
   "id": "3b296abe",
   "metadata": {},
   "outputs": [],
   "source": [
    "def forward(V, A, B, pi):\n",
    "    T = V.shape[0]\n",
    "    N = A.shape[0]\n",
    "    \n",
    "    alpha = np.zeros((T,N))\n",
    "    alpha[0] = pi[0] * B[:,V[0]]  \n",
    "    for t in range(0,T-1): alpha[t+1] = np.array([alpha[t,:].dot(A[:,j]) * (B[j,V[t+1]]) for j in range(N)])\n",
    "            \n",
    "    return alpha"
   ]
  },
  {
   "cell_type": "code",
   "execution_count": null,
   "id": "f8600d40",
   "metadata": {},
   "outputs": [],
   "source": [
    "def backward(V, A, B):\n",
    "    T = V.shape[0]\n",
    "    N = A.shape[0]\n",
    "    \n",
    "    beta = np.zeros((T,N))\n",
    "    beta[T-1] = np.ones((N))\n",
    "    for t in range(T-2, -1, -1): beta[t] = np.array([(beta[t+1,:] * B[:,V[t+1]]).dot(A[j,:]) for j in range(N)])\n",
    "            \n",
    "    return beta"
   ]
  },
  {
   "cell_type": "code",
   "execution_count": null,
   "id": "32a4bce6",
   "metadata": {},
   "outputs": [],
   "source": [
    "def viterbi(V,A,B,pi):\n",
    "    T = V.shape[0]\n",
    "    N = A.shape[0]\n",
    "\n",
    "    alpha = forward(V, A, B, pi)\n",
    "    beta = backward(V, A, B)\n",
    "\n",
    "    xi = np.zeros((T, N, N))\n",
    "    for t in range(T-1):\n",
    "        denominator = sum(alpha[t,:].dot(A[:,:]) * B[:,V[t+1]] * beta[t+1,:])\n",
    "        for i in range(N):\n",
    "            for j in range(N):\n",
    "                numerator = alpha[t,i] * A[i,j] * (B[j,V[t+1]]) * beta[t+1,j] \n",
    "                xi[t,i,j] = numerator / denominator \n",
    "\n",
    "           # note: gamma can be also computed as\n",
    "    gamma = np.zeros((T,N))\n",
    "    for t in range(T): gamma[t] = np.array([sum(xi[t,i,:]) for i in range(N)])\n",
    "\n",
    "    return gamma, xi"
   ]
  },
  {
   "cell_type": "code",
   "execution_count": null,
   "id": "2180554c",
   "metadata": {},
   "outputs": [],
   "source": [
    "def baum_welch(V, A, B, pi, max_iter=100, epsilon=1e-5, print_states=True):\n",
    "    T = V.shape[0]\n",
    "    N = A.shape[0]\n",
    "    \n",
    "    # initialization: for the first iteration, our estimated parameters will be the initial ones\n",
    "    A_bar = A\n",
    "    B_bar = B\n",
    "    pi_bar = pi\n",
    "    \n",
    "    for iteration in range(max_iter):\n",
    "        gamma, xi = viterbi(V, A_bar, B_bar, pi_bar)\n",
    "\n",
    "        # expectation-maximization step\n",
    "        pi_bar = np.array([gamma[0,i] for i in range(N)])\n",
    "\n",
    "        prev = [A_bar, B_bar, pi_bar]\n",
    "               \n",
    "        A_bar = np.zeros((N,N))\n",
    "        for i in range(N): A_bar[i] = np.array([xi[:-1,i,j].sum() / gamma[:-1,i].sum() for j in range(N)])\n",
    "\n",
    "        B_bar = np.zeros(B.shape)\n",
    "        for j in range(B.shape[0]):\n",
    "            for k in range(B.shape[1]):\n",
    "                # we need to define a list of times t_bar where V[t] is equal to k\n",
    "                t_bar = [0,0]\n",
    "                for i in sorted(V.unique()): t_bar[i] = [t for t in range(T) if V[t]==k]\n",
    "                B_bar[j,k] = sum([gamma[t,j] for t in t_bar[k]]) / gamma[:,j].sum()\n",
    "        \n",
    "        A_delta = delta(A_bar, prev[0])\n",
    "        B_delta = delta(B_bar, prev[1])\n",
    "        pi_delta = delta(pi_bar, prev[2])\n",
    "        \n",
    "        e = A_delta + B_delta + pi_delta\n",
    "        \n",
    "        if print_states == True: print(f'iteration {iteration} - delta {e}')\n",
    "        if e < epsilon: break\n",
    "\n",
    "    return {'A_hat': A_bar, 'B_hat': B_bar, 'pi_hat': pi_bar, 'gamma': gamma}"
   ]
  },
  {
   "cell_type": "code",
   "execution_count": null,
   "id": "f4977607",
   "metadata": {
    "scrolled": true
   },
   "outputs": [],
   "source": [
    "rolling1 = df[0:299]\n",
    "state = np.empty(299)\n",
    "plt.plot(rolling1.priceclose)"
   ]
  },
  {
   "cell_type": "code",
   "execution_count": null,
   "id": "9bb4f09c",
   "metadata": {},
   "outputs": [],
   "source": [
    "A_init = np.array([[.9,.1],\n",
    "                  [.25,.75]])\n",
    "B_init = np.array([[.8,.2],\n",
    "                   [.2,.8]])\n",
    "pi_init = np.array([1.15/2,.85/2])"
   ]
  },
  {
   "cell_type": "code",
   "execution_count": null,
   "id": "0e7fc1c7",
   "metadata": {},
   "outputs": [],
   "source": []
  },
  {
   "cell_type": "code",
   "execution_count": null,
   "id": "4e817234",
   "metadata": {},
   "outputs": [],
   "source": [
    "est= baum_welch(rolling1.signal, A_init, B_init, pi_init)"
   ]
  },
  {
   "cell_type": "code",
   "execution_count": null,
   "id": "d51b29a9",
   "metadata": {},
   "outputs": [],
   "source": [
    "gennaro = est['gamma']\n",
    "gennaro"
   ]
  },
  {
   "cell_type": "code",
   "execution_count": null,
   "id": "4462057c",
   "metadata": {},
   "outputs": [],
   "source": [
    "gennaro2 = viterbi(df.signal, est['A_hat'], est['B_hat'], est['pi_hat'])\n",
    "gennaro2"
   ]
  },
  {
   "cell_type": "code",
   "execution_count": null,
   "id": "38dffe30",
   "metadata": {
    "scrolled": true
   },
   "outputs": [],
   "source": [
    "for t in range(299): state[t] = np.argmax(est['gamma'][t])\n",
    "rolling1['state'] = state[:299]"
   ]
  },
  {
   "cell_type": "code",
   "execution_count": null,
   "id": "c68a526e",
   "metadata": {},
   "outputs": [],
   "source": [
    "plt.figure(figsize=(15,10))\n",
    "plt.plot(rolling1.priceclose, color='black',alpha=.8)\n",
    "plt.fill_between(rolling1.index,rolling1.priceclose,800,where=rolling1.state==0, color='red', alpha=.7)\n",
    "plt.fill_between(rolling1.index,rolling1.priceclose,800,where=rolling1.state==1, color='green', alpha=.7)"
   ]
  },
  {
   "cell_type": "code",
   "execution_count": null,
   "id": "9a615d36",
   "metadata": {},
   "outputs": [],
   "source": [
    "rolling1.r1[rolling1.state==1].mean()"
   ]
  },
  {
   "cell_type": "code",
   "execution_count": null,
   "id": "ee80a7c0",
   "metadata": {
    "scrolled": true
   },
   "outputs": [],
   "source": [
    " # conditional distribution of r1 given the state\n",
    "(rolling1.r1[rolling1.state==0]*100).plot.density()\n",
    "(rolling1.r1[rolling1.state==1]*100).plot.density()\n",
    "plt.legend(['Sell','Buy'])\n",
    "plt.xlabel('% of increasing return')"
   ]
  },
  {
   "cell_type": "code",
   "execution_count": null,
   "id": "136fc217",
   "metadata": {},
   "outputs": [],
   "source": [
    "prediction = rolling1[-2:-1].priceclose + (rolling1.r1[rolling1.state==rolling1[-2:-1].state[0]].mean())*rolling1[-2:-1].priceclose\n",
    "df.predicted[298] = prediction[0]\n",
    "prediction"
   ]
  },
  {
   "cell_type": "code",
   "execution_count": null,
   "id": "4773930b",
   "metadata": {},
   "outputs": [],
   "source": [
    "actual = rolling1[-1:].priceclose\n",
    "actual"
   ]
  },
  {
   "cell_type": "code",
   "execution_count": null,
   "id": "5f702758",
   "metadata": {},
   "outputs": [],
   "source": [
    "loss = (prediction[0] - actual[0])**2\n",
    "loss"
   ]
  },
  {
   "cell_type": "code",
   "execution_count": null,
   "id": "b5654100",
   "metadata": {},
   "outputs": [],
   "source": [
    "loss = []\n",
    "width = 50\n",
    "\n",
    "warnings.filterwarnings(\"ignore\")\n",
    "for n in range(width,100):\n",
    "    rolling = df[(n-width):n]\n",
    "    state = np.empty(width)\n",
    "    est = baum_welch(rolling.signal, A_init, B_init, pi_init, print_states = False)\n",
    "    \n",
    "    for t in range(width-1): state[t] = np.argmax(est['gamma'][t])\n",
    "    rolling['state'] = state[:width]\n",
    "    \n",
    "    prediction = rolling[-2:-1].priceclose + (rolling.r1[rolling.state==rolling[-2:-1].state[0]].mean())*rolling[-2:-1].priceclose\n",
    "    df.predicted[n-1] = prediction[0]\n",
    "    actual = rolling[-1:].priceclose\n",
    "    loss.append((prediction[0] - actual[0])**2)\n",
    "    print(f'iteration:{n}')\n",
    "    \n",
    "loss = np.array(loss)\n",
    "total_loss = loss.sum()\n",
    "mse = loss.mean()"
   ]
  },
  {
   "cell_type": "code",
   "execution_count": null,
   "id": "b5dd5173",
   "metadata": {},
   "outputs": [],
   "source": [
    "mse"
   ]
  },
  {
   "cell_type": "code",
   "execution_count": null,
   "id": "b89e6a70",
   "metadata": {},
   "outputs": [],
   "source": []
  },
  {
   "cell_type": "code",
   "execution_count": null,
   "id": "43608421",
   "metadata": {},
   "outputs": [],
   "source": []
  },
  {
   "cell_type": "code",
   "execution_count": null,
   "id": "ee8ac6ff",
   "metadata": {},
   "outputs": [],
   "source": [
    "plt.figure(figsize=(15,10))\n",
    "plt.plot(df.priceclose)\n",
    "plt.plot(df.predicted)\n",
    "plt.xlim((17700,17900))\n",
    "plt.ylim((1150,1450))\n",
    "plt.legend(('Actual', 'Predicted'))"
   ]
  },
  {
   "cell_type": "code",
   "execution_count": null,
   "id": "5ba9f9db",
   "metadata": {},
   "outputs": [],
   "source": [
    "mse"
   ]
  },
  {
   "cell_type": "code",
   "execution_count": null,
   "id": "99c5ac63",
   "metadata": {},
   "outputs": [],
   "source": [
    "'''\n",
    "def viterbi(V, a, b, initial_distribution):\n",
    "    T = V.shape[0]\n",
    "    M = a.shape[0]\n",
    " \n",
    "    omega = np.zeros((T, M))\n",
    "    omega[0, :] = np.log(initial_distribution * b[:, V[0]])\n",
    " \n",
    "    prev = np.zeros((T - 1, M))\n",
    " \n",
    "    for t in range(1, T):\n",
    "        for j in range(M):\n",
    "            # Same as Forward Probability\n",
    "            probability = omega[t - 1] + np.log(a[:, j]) + np.log(b[j, V[t]])\n",
    " \n",
    "            # This is our most probable state given previous state at time t (1)\n",
    "            prev[t - 1, j] = np.argmax(probability)\n",
    " \n",
    "            # This is the probability of the most probable state (2)\n",
    "            omega[t, j] = np.max(probability)\n",
    " \n",
    "    # Path Array\n",
    "    S = np.zeros(T)\n",
    " \n",
    "    # Find the most probable last hidden state\n",
    "    last_state = np.argmax(omega[T - 1, :])\n",
    " \n",
    "    S[0] = last_state\n",
    " \n",
    "    backtrack_index = 1\n",
    "    for i in range(T - 2, -1, -1):\n",
    "        S[backtrack_index] = prev[i, int(last_state)]\n",
    "        last_state = prev[i, int(last_state)]\n",
    "        backtrack_index += 1\n",
    " \n",
    "    # Flip the path array since we were backtracking\n",
    "    S = np.flip(S, axis=0)\n",
    " \n",
    "    # Convert numeric values to actual hidden states\n",
    "    result = []\n",
    "    for s in S:\n",
    "        if s == 0:\n",
    "            result.append(\"A\")\n",
    "        else:\n",
    "            result.append(\"B\")\n",
    " \n",
    "    return result\n",
    "'''"
   ]
  }
 ],
 "metadata": {
  "interpreter": {
   "hash": "916dbcbb3f70747c44a77c7bcd40155683ae19c65e1c03b4aa3499c5328201f1"
  },
  "kernelspec": {
   "display_name": "Python 3.10.4 64-bit",
   "language": "python",
   "name": "python3"
  },
  "language_info": {
   "codemirror_mode": {
    "name": "ipython",
    "version": 3
   },
   "file_extension": ".py",
   "mimetype": "text/x-python",
   "name": "python",
   "nbconvert_exporter": "python",
   "pygments_lexer": "ipython3",
   "version": "3.10.4"
  }
 },
 "nbformat": 4,
 "nbformat_minor": 5
}
