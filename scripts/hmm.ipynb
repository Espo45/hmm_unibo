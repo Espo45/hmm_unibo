{
 "cells": [
  {
   "cell_type": "code",
   "execution_count": 1,
   "id": "ddf705f4",
   "metadata": {},
   "outputs": [],
   "source": [
    "import numpy as np\n",
    "import pandas as pd\n",
    "import matplotlib.pyplot as plt\n",
    "import random\n",
    "from utils import *\n",
    "from hmmlearn import hmm"
   ]
  },
  {
   "cell_type": "code",
   "execution_count": 2,
   "id": "bb5226b9",
   "metadata": {},
   "outputs": [
    {
     "data": {
      "text/html": [
       "<div>\n",
       "<style scoped>\n",
       "    .dataframe tbody tr th:only-of-type {\n",
       "        vertical-align: middle;\n",
       "    }\n",
       "\n",
       "    .dataframe tbody tr th {\n",
       "        vertical-align: top;\n",
       "    }\n",
       "\n",
       "    .dataframe thead th {\n",
       "        text-align: right;\n",
       "    }\n",
       "</style>\n",
       "<table border=\"1\" class=\"dataframe\">\n",
       "  <thead>\n",
       "    <tr style=\"text-align: right;\">\n",
       "      <th></th>\n",
       "      <th>priceclose</th>\n",
       "      <th>r1</th>\n",
       "      <th>signal</th>\n",
       "      <th>predicted</th>\n",
       "    </tr>\n",
       "    <tr>\n",
       "      <th>pricingdate</th>\n",
       "      <th></th>\n",
       "      <th></th>\n",
       "      <th></th>\n",
       "      <th></th>\n",
       "    </tr>\n",
       "  </thead>\n",
       "  <tbody>\n",
       "    <tr>\n",
       "      <th>2018-06-12</th>\n",
       "      <td>1293.170013</td>\n",
       "      <td>0.002628</td>\n",
       "      <td>1</td>\n",
       "      <td>0.0</td>\n",
       "    </tr>\n",
       "    <tr>\n",
       "      <th>2018-06-13</th>\n",
       "      <td>1296.170003</td>\n",
       "      <td>0.002320</td>\n",
       "      <td>1</td>\n",
       "      <td>0.0</td>\n",
       "    </tr>\n",
       "    <tr>\n",
       "      <th>2018-06-14</th>\n",
       "      <td>1303.909986</td>\n",
       "      <td>0.005971</td>\n",
       "      <td>1</td>\n",
       "      <td>0.0</td>\n",
       "    </tr>\n",
       "    <tr>\n",
       "      <th>2018-06-15</th>\n",
       "      <td>1308.450022</td>\n",
       "      <td>0.003482</td>\n",
       "      <td>1</td>\n",
       "      <td>0.0</td>\n",
       "    </tr>\n",
       "    <tr>\n",
       "      <th>2018-06-18</th>\n",
       "      <td>1299.859995</td>\n",
       "      <td>-0.006565</td>\n",
       "      <td>0</td>\n",
       "      <td>0.0</td>\n",
       "    </tr>\n",
       "    <tr>\n",
       "      <th>...</th>\n",
       "      <td>...</td>\n",
       "      <td>...</td>\n",
       "      <td>...</td>\n",
       "      <td>...</td>\n",
       "    </tr>\n",
       "    <tr>\n",
       "      <th>2022-05-24</th>\n",
       "      <td>1871.590002</td>\n",
       "      <td>0.002630</td>\n",
       "      <td>1</td>\n",
       "      <td>0.0</td>\n",
       "    </tr>\n",
       "    <tr>\n",
       "      <th>2022-05-25</th>\n",
       "      <td>1913.690022</td>\n",
       "      <td>0.022494</td>\n",
       "      <td>1</td>\n",
       "      <td>0.0</td>\n",
       "    </tr>\n",
       "    <tr>\n",
       "      <th>2022-05-26</th>\n",
       "      <td>1923.819968</td>\n",
       "      <td>0.005293</td>\n",
       "      <td>1</td>\n",
       "      <td>0.0</td>\n",
       "    </tr>\n",
       "    <tr>\n",
       "      <th>2022-05-27</th>\n",
       "      <td>1967.990009</td>\n",
       "      <td>0.022960</td>\n",
       "      <td>1</td>\n",
       "      <td>0.0</td>\n",
       "    </tr>\n",
       "    <tr>\n",
       "      <th>2022-05-31</th>\n",
       "      <td>1934.319976</td>\n",
       "      <td>-0.017109</td>\n",
       "      <td>0</td>\n",
       "      <td>0.0</td>\n",
       "    </tr>\n",
       "  </tbody>\n",
       "</table>\n",
       "<p>1000 rows × 4 columns</p>\n",
       "</div>"
      ],
      "text/plain": [
       "              priceclose        r1  signal  predicted\n",
       "pricingdate                                          \n",
       "2018-06-12   1293.170013  0.002628       1        0.0\n",
       "2018-06-13   1296.170003  0.002320       1        0.0\n",
       "2018-06-14   1303.909986  0.005971       1        0.0\n",
       "2018-06-15   1308.450022  0.003482       1        0.0\n",
       "2018-06-18   1299.859995 -0.006565       0        0.0\n",
       "...                  ...       ...     ...        ...\n",
       "2022-05-24   1871.590002  0.002630       1        0.0\n",
       "2022-05-25   1913.690022  0.022494       1        0.0\n",
       "2022-05-26   1923.819968  0.005293       1        0.0\n",
       "2022-05-27   1967.990009  0.022960       1        0.0\n",
       "2022-05-31   1934.319976 -0.017109       0        0.0\n",
       "\n",
       "[1000 rows x 4 columns]"
      ]
     },
     "execution_count": 2,
     "metadata": {},
     "output_type": "execute_result"
    }
   ],
   "source": [
    "df = pd.read_csv('../HMM_randomportfolio.csv')\n",
    "df.pricingdate = df.pricingdate.astype('datetime64')\n",
    "df = df.tail(1000)\n",
    "df = df.set_index(df.pricingdate).drop('pricingdate', axis=1)\n",
    "df['predicted'] = np.zeros(len(df.priceclose))\n",
    "df"
   ]
  },
  {
   "cell_type": "code",
   "execution_count": 3,
   "id": "91cd30fa",
   "metadata": {},
   "outputs": [
    {
     "data": {
      "text/plain": [
       "[<matplotlib.lines.Line2D at 0x7f4d190e62b0>]"
      ]
     },
     "execution_count": 3,
     "metadata": {},
     "output_type": "execute_result"
    },
    {
     "data": {
      "image/png": "[encoded data removed]",
      "text/plain": [
       "<Figure size 432x288 with 1 Axes>"
      ]
     },
     "metadata": {
      "needs_background": "light"
     },
     "output_type": "display_data"
    }
   ],
   "source": [
    "plt.plot(df.priceclose)"
   ]
  },
  {
   "cell_type": "code",
   "execution_count": 4,
   "id": "18e99549",
   "metadata": {},
   "outputs": [],
   "source": [
    "S = ['B','S'] # buy, hold, sell"
   ]
  },
  {
   "cell_type": "code",
   "execution_count": 5,
   "id": "3d5a1f78",
   "metadata": {},
   "outputs": [],
   "source": [
    "n_visible = len(df.signal.unique())\n",
    "n_hidden = len(S)"
   ]
  },
  {
   "cell_type": "code",
   "execution_count": 6,
   "id": "3b296abe",
   "metadata": {},
   "outputs": [],
   "source": [
    "def forward(V, A, B, pi):\n",
    "    T = V.shape[0]\n",
    "    N = A.shape[0]\n",
    "    \n",
    "    alpha = np.zeros((T,N))\n",
    "    alpha[0] = pi[0] * B[:,V[0]]  \n",
    "    for t in range(0,T-1): alpha[t+1] = np.array([alpha[t,:].dot(A[:,j]) * (B[j,V[t+1]]) for j in range(N)])\n",
    "            \n",
    "    return alpha"
   ]
  },
  {
   "cell_type": "code",
   "execution_count": 11,
   "id": "f8600d40",
   "metadata": {},
   "outputs": [],
   "source": [
    "def backward(V, A, B):\n",
    "    T = V.shape[0]\n",
    "    N = A.shape[0]\n",
    "    \n",
    "    beta = np.zeros((T,N))\n",
    "    beta[T-1] = np.ones((N))\n",
    "    for t in range(T-2, -1, -1): beta[t] = np.array([(beta[t+1,:] * B[:,V[t+1]]).dot(A[j,:]) for j in range(N)])\n",
    "            \n",
    "    return beta"
   ]
  },
  {
   "cell_type": "code",
   "execution_count": 7,
   "id": "2180554c",
   "metadata": {},
   "outputs": [],
   "source": [
    "def baum_welch(V, A, B, pi, max_iter=100, epsilon=1e-5, print_states=True):\n",
    "    T = V.shape[0]\n",
    "    N = A.shape[0]\n",
    "    \n",
    "    # initialization: for the first iteration, our estimated parameters will be the initial ones\n",
    "    A_bar = A\n",
    "    B_bar = B\n",
    "    pi_bar = pi\n",
    "    \n",
    "    for iteration in range(max_iter):\n",
    "        alpha = forward(V, A_bar, B_bar, pi_bar)\n",
    "        beta = backward(V, A_bar, B_bar)\n",
    "\n",
    "        xi = np.zeros((T, N, N))\n",
    "        for t in range(T-1):\n",
    "            denominator = sum(alpha[t,:].dot(A_bar[:,:]) * B_bar[:,V[t+1]] * beta[t+1,:])\n",
    "            for i in range(N):\n",
    "                for j in range(N):\n",
    "                    numerator = alpha[t,i] * A_bar[i,j] * (B_bar[j,V[t+1]]) * beta[t+1,j] \n",
    "                    xi[t,i,j] = numerator / denominator \n",
    "\n",
    "        # note: gamma can be also computed as\n",
    "        gamma = np.zeros((T,N))\n",
    "        for t in range(T): gamma[t] = np.array([sum(xi[t,i,:]) for i in range(N)])\n",
    "\n",
    "        # expectation-maximization step\n",
    "        pi_bar = np.array([gamma[0,i] for i in range(N)])\n",
    "\n",
    "        prev = [A_bar, B_bar, pi_bar]\n",
    "               \n",
    "        A_bar = np.zeros((N,N))\n",
    "        for i in range(N): A_bar[i] = np.array([xi[:-1,i,j].sum() / gamma[:-1,i].sum() for j in range(N)])\n",
    "\n",
    "        B_bar = np.zeros(B.shape)\n",
    "        for j in range(B.shape[0]):\n",
    "            for k in range(B.shape[1]):\n",
    "                # we need to define a list of times t_bar where V[t] is equal to k\n",
    "                t_bar = [0,0]\n",
    "                for i in sorted(V.unique()): t_bar[i] = [t for t in range(T) if V[t]==k]\n",
    "                B_bar[j,k] = sum([gamma[t,j] for t in t_bar[k]]) / gamma[:,j].sum()\n",
    "        \n",
    "        A_delta = delta(A_bar, prev[0])\n",
    "        B_delta = delta(B_bar, prev[1])\n",
    "        pi_delta = delta(pi_bar, prev[2])\n",
    "        \n",
    "        e = A_delta + B_delta + pi_delta\n",
    "        \n",
    "        if print_states == True: print(f'iteration {iteration} - delta {e}')\n",
    "        if e < epsilon: break\n",
    "\n",
    "    return {'A_hat': A_bar, 'B_hat': B_bar, 'pi_hat': pi_bar, 'gamma': gamma}"
   ]
  },
  {
   "cell_type": "code",
   "execution_count": 8,
   "id": "f4977607",
   "metadata": {
    "scrolled": true
   },
   "outputs": [
    {
     "data": {
      "text/plain": [
       "[<matplotlib.lines.Line2D at 0x7f4d190a4ca0>]"
      ]
     },
     "execution_count": 8,
     "metadata": {},
     "output_type": "execute_result"
    },
    {
     "data": {
      "image/png": "[encoded data removed]",
      "text/plain": [
       "<Figure size 432x288 with 1 Axes>"
      ]
     },
     "metadata": {
      "needs_background": "light"
     },
     "output_type": "display_data"
    }
   ],
   "source": [
    "rolling1 = df[0:299]\n",
    "state = np.empty(299)\n",
    "plt.plot(rolling1.priceclose)"
   ]
  },
  {
   "cell_type": "code",
   "execution_count": 9,
   "id": "9bb4f09c",
   "metadata": {},
   "outputs": [],
   "source": [
    "A_init = np.array([[.95,.05],\n",
    "                  [.15,.85]])\n",
    "B_init = np.array([[.8,.2],\n",
    "                   [.2,.8]])\n",
    "pi_init = np.array([1.1/2,.9/2])"
   ]
  },
  {
   "cell_type": "code",
   "execution_count": 12,
   "id": "4e817234",
   "metadata": {},
   "outputs": [
    {
     "name": "stdout",
     "output_type": "stream",
     "text": [
      "iteration 0 - delta 0.04347730288719291\n",
      "iteration 1 - delta 0.006140695856961368\n",
      "iteration 2 - delta 0.00207015445187545\n",
      "iteration 3 - delta 0.0009052538401054385\n",
      "iteration 4 - delta 0.0004634243883496512\n",
      "iteration 5 - delta 0.0002638654911221732\n",
      "iteration 6 - delta 0.0001622839519442776\n",
      "iteration 7 - delta 0.00010587841016894235\n",
      "iteration 8 - delta 7.242318341009128e-05\n",
      "iteration 9 - delta 5.1530664243334615e-05\n",
      "iteration 10 - delta 3.793444207418998e-05\n",
      "iteration 11 - delta 2.8784757472764655e-05\n",
      "iteration 12 - delta 2.2455024351424388e-05\n",
      "iteration 13 - delta 1.797455918839703e-05\n",
      "iteration 14 - delta 1.4741846278906539e-05\n",
      "iteration 15 - delta 1.2371894550120042e-05\n",
      "iteration 16 - delta 1.0611298653994415e-05\n",
      "iteration 17 - delta 9.289129543622428e-06\n"
     ]
    }
   ],
   "source": [
    "est= baum_welch(rolling1.signal, A_init, B_init, pi_init)"
   ]
  },
  {
   "cell_type": "code",
   "execution_count": 13,
   "id": "d7eeef38",
   "metadata": {},
   "outputs": [
    {
     "data": {
      "text/plain": [
       "{'A_hat': array([[0.77795335, 0.22204665],\n",
       "        [0.14124517, 0.85875483]]),\n",
       " 'B_hat': array([[0.59604786, 0.40395214],\n",
       "        [0.37826601, 0.62173399]]),\n",
       " 'pi_hat': array([0.30228615, 0.69771385]),\n",
       " 'gamma': array([[0.30228615, 0.69771385],\n",
       "        [0.24985878, 0.75014122],\n",
       "        [0.25430124, 0.74569876],\n",
       "        [0.31781393, 0.68218607],\n",
       "        [0.47185564, 0.52814436],\n",
       "        [0.53045972, 0.46954028],\n",
       "        [0.51306753, 0.48693247],\n",
       "        [0.62133219, 0.37866781],\n",
       "        [0.66911708, 0.33088292],\n",
       "        [0.67227442, 0.32772558],\n",
       "        [0.63185163, 0.36814837],\n",
       "        [0.53443881, 0.46556119],\n",
       "        [0.34772014, 0.65227986],\n",
       "        [0.26595122, 0.73404878],\n",
       "        [0.2486307 , 0.7513693 ],\n",
       "        [0.28717945, 0.71282055],\n",
       "        [0.21015523, 0.78984477],\n",
       "        [0.17927671, 0.82072329],\n",
       "        [0.1792493 , 0.8207507 ],\n",
       "        [0.21005943, 0.78994057],\n",
       "        [0.28696782, 0.71303218],\n",
       "        [0.24828251, 0.75171749],\n",
       "        [0.26535525, 0.73464475],\n",
       "        [0.34664242, 0.65335758],\n",
       "        [0.31977679, 0.68022321],\n",
       "        [0.37087909, 0.62912091],\n",
       "        [0.52526104, 0.47473896],\n",
       "        [0.59376238, 0.40623762],\n",
       "        [0.59910781, 0.40089219],\n",
       "        [0.54307064, 0.45692936],\n",
       "        [0.40706104, 0.59293896],\n",
       "        [0.37915456, 0.62084544],\n",
       "        [0.44552869, 0.55447131],\n",
       "        [0.41976776, 0.58023224],\n",
       "        [0.29332581, 0.70667419],\n",
       "        [0.24572314, 0.75427686],\n",
       "        [0.25338144, 0.74661856],\n",
       "        [0.32009398, 0.67990602],\n",
       "        [0.27553685, 0.72446315],\n",
       "        [0.2956331 , 0.7043669 ],\n",
       "        [0.39033671, 0.60966329],\n",
       "        [0.3825293 , 0.6174707 ],\n",
       "        [0.47128978, 0.52871022],\n",
       "        [0.47136202, 0.52863798],\n",
       "        [0.38276995, 0.61723005],\n",
       "        [0.39078908, 0.60921092],\n",
       "        [0.29638606, 0.70361394],\n",
       "        [0.27676317, 0.72323683],\n",
       "        [0.3222009 , 0.6777991 ],\n",
       "        [0.45520522, 0.54479478],\n",
       "        [0.49263052, 0.50736948],\n",
       "        [0.44689231, 0.55310769],\n",
       "        [0.30281735, 0.69718265],\n",
       "        [0.24342701, 0.75657299],\n",
       "        [0.23930435, 0.76069565],\n",
       "        [0.28840739, 0.71159261],\n",
       "        [0.41505756, 0.58494244],\n",
       "        [0.44025507, 0.55974493],\n",
       "        [0.37235894, 0.62764106],\n",
       "        [0.39711357, 0.60288643],\n",
       "        [0.32140815, 0.67859185],\n",
       "        [0.32547713, 0.67452287],\n",
       "        [0.41133593, 0.58866407],\n",
       "        [0.39850808, 0.60149192],\n",
       "        [0.28273806, 0.71726194],\n",
       "        [0.24106874, 0.75893126],\n",
       "        [0.25286068, 0.74713932],\n",
       "        [0.32395461, 0.67604539],\n",
       "        [0.28418631, 0.71581369],\n",
       "        [0.31163666, 0.68836334],\n",
       "        [0.2261215 , 0.7738785 ],\n",
       "        [0.19315075, 0.80684925],\n",
       "        [0.19639352, 0.80360648],\n",
       "        [0.23745601, 0.76254399],\n",
       "        [0.33667706, 0.66332294],\n",
       "        [0.32538351, 0.67461649],\n",
       "        [0.39446969, 0.60553031],\n",
       "        [0.57815502, 0.42184498],\n",
       "        [0.68143595, 0.31856405],\n",
       "        [0.73857498, 0.26142502],\n",
       "        [0.76852749, 0.23147251],\n",
       "        [0.78122993, 0.21877007],\n",
       "        [0.78089623, 0.21910377],\n",
       "        [0.76741568, 0.23258432],\n",
       "        [0.73631625, 0.26368375],\n",
       "        [0.67728097, 0.32271903],\n",
       "        [0.57072542, 0.42927458],\n",
       "        [0.59926533, 0.40073467],\n",
       "        [0.56696378, 0.43303622],\n",
       "        [0.66880706, 0.33119294],\n",
       "        [0.72168314, 0.27831686],\n",
       "        [0.7431332 , 0.2568668 ],\n",
       "        [0.74027309, 0.25972691],\n",
       "        [0.712154  , 0.287846  ],\n",
       "        [0.64944768, 0.35055232],\n",
       "        [0.53135186, 0.46864814],\n",
       "        [0.54309742, 0.45690258],\n",
       "        [0.48129416, 0.51870584],\n",
       "        [0.32543939, 0.67456061],\n",
       "        [0.26238056, 0.73761944],\n",
       "        [0.26088368, 0.73911632],\n",
       "        [0.32020734, 0.67979266],\n",
       "        [0.26836674, 0.73163326],\n",
       "        [0.2792378 , 0.7207622 ],\n",
       "        [0.35820511, 0.64179489],\n",
       "        [0.54438237, 0.45561763],\n",
       "        [0.64321018, 0.35678982],\n",
       "        [0.68747379, 0.31252621],\n",
       "        [0.69185723, 0.30814277],\n",
       "        [0.65781468, 0.34218532],\n",
       "        [0.57405282, 0.42594718],\n",
       "        [0.62453235, 0.37546765],\n",
       "        [0.6196096 , 0.3803904 ],\n",
       "        [0.5576515 , 0.4423485 ],\n",
       "        [0.41810402, 0.58189598],\n",
       "        [0.38961115, 0.61038885],\n",
       "        [0.25483595, 0.74516405],\n",
       "        [0.18985401, 0.81014599],\n",
       "        [0.16247881, 0.83752119],\n",
       "        [0.15915101, 0.84084899],\n",
       "        [0.17822229, 0.82177771],\n",
       "        [0.22913895, 0.77086105],\n",
       "        [0.33712077, 0.66287923],\n",
       "        [0.33399448, 0.66600552],\n",
       "        [0.4144326 , 0.5855674 ],\n",
       "        [0.39696363, 0.60303637],\n",
       "        [0.47897272, 0.52102728],\n",
       "        [0.47409498, 0.52590502],\n",
       "        [0.58818805, 0.41181195],\n",
       "        [0.63404283, 0.36595717],\n",
       "        [0.62687124, 0.37312876],\n",
       "        [0.56429416, 0.43570584],\n",
       "        [0.63409888, 0.36590112],\n",
       "        [0.64973223, 0.35026777],\n",
       "        [0.61638044, 0.38361956],\n",
       "        [0.52297935, 0.47702065],\n",
       "        [0.338544  , 0.661456  ],\n",
       "        [0.25639538, 0.74360462],\n",
       "        [0.23584407, 0.76415593],\n",
       "        [0.26671069, 0.73328931],\n",
       "        [0.36428394, 0.63571606],\n",
       "        [0.35529013, 0.64470987],\n",
       "        [0.23674565, 0.76325435],\n",
       "        [0.17951683, 0.82048317],\n",
       "        [0.15525738, 0.84474262],\n",
       "        [0.15195123, 0.84804877],\n",
       "        [0.16796081, 0.83203919],\n",
       "        [0.2112159 , 0.7887841 ],\n",
       "        [0.30314139, 0.69685861],\n",
       "        [0.28072184, 0.71927816],\n",
       "        [0.32453832, 0.67546168],\n",
       "        [0.25766331, 0.74233669],\n",
       "        [0.25119694, 0.74880306],\n",
       "        [0.30193635, 0.69806365],\n",
       "        [0.23916598, 0.76083402],\n",
       "        [0.23056089, 0.76943911],\n",
       "        [0.27185886, 0.72814114],\n",
       "        [0.38351538, 0.61648462],\n",
       "        [0.39032852, 0.60967148],\n",
       "        [0.29455849, 0.70544151],\n",
       "        [0.27323086, 0.72676914],\n",
       "        [0.31578176, 0.68421824],\n",
       "        [0.24645415, 0.75354585],\n",
       "        [0.23423802, 0.76576198],\n",
       "        [0.27308252, 0.72691748],\n",
       "        [0.19472429, 0.80527571],\n",
       "        [0.15744073, 0.84255927],\n",
       "        [0.14276474, 0.85723526],\n",
       "        [0.1434271 , 0.8565729 ],\n",
       "        [0.15975586, 0.84024414],\n",
       "        [0.19983892, 0.80016108],\n",
       "        [0.28353   , 0.71647   ],\n",
       "        [0.45228253, 0.54771747],\n",
       "        [0.52013389, 0.47986611],\n",
       "        [0.50959316, 0.49040684],\n",
       "        [0.41716355, 0.58283645],\n",
       "        [0.42966428, 0.57033572],\n",
       "        [0.34662825, 0.65337175],\n",
       "        [0.35069677, 0.64930323],\n",
       "        [0.44388506, 0.55611494],\n",
       "        [0.44330979, 0.55669021],\n",
       "        [0.55525959, 0.44474041],\n",
       "        [0.59246305, 0.40753695],\n",
       "        [0.56726211, 0.43273789],\n",
       "        [0.47129657, 0.52870343],\n",
       "        [0.49201722, 0.50798278],\n",
       "        [0.42912519, 0.57087481],\n",
       "        [0.47226173, 0.52773827],\n",
       "        [0.42841234, 0.57158766],\n",
       "        [0.49041137, 0.50958863],\n",
       "        [0.46852351, 0.53147649],\n",
       "        [0.56262104, 0.43737896],\n",
       "        [0.5851615 , 0.4148385 ],\n",
       "        [0.5436225 , 0.4563775 ],\n",
       "        [0.42422384, 0.57577616],\n",
       "        [0.414224  , 0.585776  ],\n",
       "        [0.30426968, 0.69573032],\n",
       "        [0.27339918, 0.72660082],\n",
       "        [0.30632189, 0.69367811],\n",
       "        [0.22583566, 0.77416434],\n",
       "        [0.19712231, 0.80287769],\n",
       "        [0.2059597 , 0.7940403 ],\n",
       "        [0.25672512, 0.74327488],\n",
       "        [0.37456343, 0.62543657],\n",
       "        [0.38567215, 0.61432785],\n",
       "        [0.29373649, 0.70626351],\n",
       "        [0.27553239, 0.72446761],\n",
       "        [0.32204309, 0.67795691],\n",
       "        [0.25757542, 0.74242458],\n",
       "        [0.25328445, 0.74671555],\n",
       "        [0.30704478, 0.69295522],\n",
       "        [0.4454847 , 0.5545153 ],\n",
       "        [0.48605984, 0.51394016],\n",
       "        [0.44223064, 0.55776936],\n",
       "        [0.29945716, 0.70054284],\n",
       "        [0.24023513, 0.75976487],\n",
       "        [0.235231  , 0.764769  ],\n",
       "        [0.28196615, 0.71803385],\n",
       "        [0.21273161, 0.78726839],\n",
       "        [0.18955029, 0.81044971],\n",
       "        [0.20094011, 0.79905989],\n",
       "        [0.25254262, 0.74745738],\n",
       "        [0.36991733, 0.63008267],\n",
       "        [0.37993084, 0.62006916],\n",
       "        [0.28590505, 0.71409495],\n",
       "        [0.26365363, 0.73634637],\n",
       "        [0.30215514, 0.69784486],\n",
       "        [0.2269194 , 0.7730806 ],\n",
       "        [0.20315305, 0.79684695],\n",
       "        [0.21908427, 0.78091573],\n",
       "        [0.28260402, 0.71739598],\n",
       "        [0.23030953, 0.76969047],\n",
       "        [0.22844046, 0.77155954],\n",
       "        [0.27607099, 0.72392901],\n",
       "        [0.39679326, 0.60320674],\n",
       "        [0.41383198, 0.58616802],\n",
       "        [0.33283958, 0.66716042],\n",
       "        [0.33515208, 0.66484792],\n",
       "        [0.42191488, 0.57808512],\n",
       "        [0.41165444, 0.58834556],\n",
       "        [0.50517809, 0.49482191],\n",
       "        [0.51589572, 0.48410428],\n",
       "        [0.44736281, 0.55263719],\n",
       "        [0.48903823, 0.51096177],\n",
       "        [0.44687718, 0.55312282],\n",
       "        [0.30689312, 0.69310688],\n",
       "        [0.25184568, 0.74815432],\n",
       "        [0.25446904, 0.74553096],\n",
       "        [0.31606261, 0.68393739],\n",
       "        [0.46713459, 0.53286541],\n",
       "        [0.5223663 , 0.4776337 ],\n",
       "        [0.50008037, 0.49991963],\n",
       "        [0.39288364, 0.60711636],\n",
       "        [0.38658721, 0.61341279],\n",
       "        [0.276001  , 0.723999  ],\n",
       "        [0.23677634, 0.76322366],\n",
       "        [0.24948468, 0.75051532],\n",
       "        [0.32042065, 0.67957935],\n",
       "        [0.48471987, 0.51528013],\n",
       "        [0.55433433, 0.44566567],\n",
       "        [0.55235801, 0.44764199],\n",
       "        [0.47813528, 0.52186472],\n",
       "        [0.30704341, 0.69295659],\n",
       "        [0.22753147, 0.77246853],\n",
       "        [0.200216  , 0.799784  ],\n",
       "        [0.21156726, 0.78843274],\n",
       "        [0.26720768, 0.73279232],\n",
       "        [0.3946968 , 0.6053032 ],\n",
       "        [0.41748281, 0.58251719],\n",
       "        [0.34312479, 0.65687521],\n",
       "        [0.35427361, 0.64572639],\n",
       "        [0.45645144, 0.54354856],\n",
       "        [0.46634428, 0.53365572],\n",
       "        [0.59558881, 0.40441119],\n",
       "        [0.65630608, 0.34369392],\n",
       "        [0.66863852, 0.33136148],\n",
       "        [0.63667729, 0.36332271],\n",
       "        [0.54981955, 0.45018045],\n",
       "        [0.37925102, 0.62074898],\n",
       "        [0.31712715, 0.68287285],\n",
       "        [0.33267707, 0.66732293],\n",
       "        [0.43360288, 0.56639712],\n",
       "        [0.43847185, 0.56152815],\n",
       "        [0.55545333, 0.44454667],\n",
       "        [0.59718397, 0.40281603],\n",
       "        [0.57750753, 0.42249247],\n",
       "        [0.48989652, 0.51010348],\n",
       "        [0.52204393, 0.47795607],\n",
       "        [0.47678636, 0.52321364],\n",
       "        [0.33911001, 0.66088999],\n",
       "        [0.29406428, 0.70593572],\n",
       "        [0.31933736, 0.68066264],\n",
       "        [0.42744737, 0.57255263],\n",
       "        [0.43789716, 0.56210284],\n",
       "        [0.35415336, 0.64584664],\n",
       "        [0.35951021, 0.64048979],\n",
       "        [0.25728886, 0.74271114],\n",
       "        [0.21968841, 0.78031159],\n",
       "        [0.        , 0.        ]])}"
      ]
     },
     "execution_count": 13,
     "metadata": {},
     "output_type": "execute_result"
    }
   ],
   "source": [
    "est"
   ]
  },
  {
   "cell_type": "code",
   "execution_count": 14,
   "id": "38dffe30",
   "metadata": {
    "scrolled": true
   },
   "outputs": [
    {
     "name": "stderr",
     "output_type": "stream",
     "text": [
      "/tmp/ipykernel_30967/1595404919.py:2: SettingWithCopyWarning: \n",
      "A value is trying to be set on a copy of a slice from a DataFrame.\n",
      "Try using .loc[row_indexer,col_indexer] = value instead\n",
      "\n",
      "See the caveats in the documentation: https://pandas.pydata.org/pandas-docs/stable/user_guide/indexing.html#returning-a-view-versus-a-copy\n",
      "  rolling1['state'] = state[:299]\n"
     ]
    }
   ],
   "source": [
    "for t in range(299): state[t] = np.argmax(est['gamma'][t])\n",
    "rolling1['state'] = state[:299]"
   ]
  },
  {
   "cell_type": "code",
   "execution_count": 15,
   "id": "c68a526e",
   "metadata": {},
   "outputs": [
    {
     "data": {
      "text/plain": [
       "<matplotlib.collections.PolyCollection at 0x7f4d1868efd0>"
      ]
     },
     "execution_count": 15,
     "metadata": {},
     "output_type": "execute_result"
    },
    {
     "data": {
      "image/png": "[encoded data removed]",
      "text/plain": [
       "<Figure size 1080x720 with 1 Axes>"
      ]
     },
     "metadata": {
      "needs_background": "light"
     },
     "output_type": "display_data"
    }
   ],
   "source": [
    "plt.figure(figsize=(15,10))\n",
    "plt.plot(rolling1.priceclose, color='black',alpha=.8)\n",
    "plt.fill_between(rolling1.index,rolling1.priceclose,1000,where=rolling1.state==0, color='red', alpha=.7)\n",
    "plt.fill_between(rolling1.index,rolling1.priceclose,1000,where=rolling1.state==1, color='green', alpha=.7)"
   ]
  },
  {
   "cell_type": "code",
   "execution_count": null,
   "id": "d4cec88d",
   "metadata": {},
   "outputs": [],
   "source": []
  },
  {
   "cell_type": "code",
   "execution_count": 16,
   "id": "9a615d36",
   "metadata": {},
   "outputs": [
    {
     "data": {
      "text/plain": [
       "0.002892890196688477"
      ]
     },
     "execution_count": 16,
     "metadata": {},
     "output_type": "execute_result"
    }
   ],
   "source": [
    "rolling1.r1[rolling1.state==1].mean()"
   ]
  },
  {
   "cell_type": "code",
   "execution_count": 17,
   "id": "ee80a7c0",
   "metadata": {
    "scrolled": true
   },
   "outputs": [
    {
     "data": {
      "text/plain": [
       "Text(0.5, 0, '% of increasing return')"
      ]
     },
     "execution_count": 17,
     "metadata": {},
     "output_type": "execute_result"
    },
    {
     "data": {
      "image/png": "[encoded data removed]",
      "text/plain": [
       "<Figure size 432x288 with 1 Axes>"
      ]
     },
     "metadata": {
      "needs_background": "light"
     },
     "output_type": "display_data"
    }
   ],
   "source": [
    " # conditional distribution of r1 given the state\n",
    "(rolling1.r1[rolling1.state==0]*100).plot.density()\n",
    "(rolling1.r1[rolling1.state==1]*100).plot.density()\n",
    "plt.legend(['Sell','Buy'])\n",
    "plt.xlabel('% of increasing return')"
   ]
  },
  {
   "cell_type": "code",
   "execution_count": null,
   "id": "136fc217",
   "metadata": {},
   "outputs": [],
   "source": [
    "prediction = rolling1[-2:-1].priceclose + (rolling1.r1[rolling1.state==rolling1[-2:-1].state[0]].mean())*rolling1[-2:-1].priceclose\n",
    "df.predicted[298] = prediction[0]\n",
    "prediction"
   ]
  },
  {
   "cell_type": "code",
   "execution_count": null,
   "id": "4773930b",
   "metadata": {},
   "outputs": [],
   "source": [
    "actual = rolling1[-1:].priceclose\n",
    "actual"
   ]
  },
  {
   "cell_type": "code",
   "execution_count": null,
   "id": "5f702758",
   "metadata": {},
   "outputs": [],
   "source": [
    "loss = (prediction[0] - actual[0])**2\n",
    "loss"
   ]
  },
  {
   "cell_type": "code",
   "execution_count": 29,
   "id": "b5654100",
   "metadata": {},
   "outputs": [
    {
     "name": "stderr",
     "output_type": "stream",
     "text": [
      "/tmp/ipykernel_49777/3500476163.py:9: SettingWithCopyWarning: \n",
      "A value is trying to be set on a copy of a slice from a DataFrame.\n",
      "Try using .loc[row_indexer,col_indexer] = value instead\n",
      "\n",
      "See the caveats in the documentation: https://pandas.pydata.org/pandas-docs/stable/user_guide/indexing.html#returning-a-view-versus-a-copy\n",
      "  rolling['state'] = state[:299]\n",
      "/tmp/ipykernel_49777/3500476163.py:12: SettingWithCopyWarning: \n",
      "A value is trying to be set on a copy of a slice from a DataFrame\n",
      "\n",
      "See the caveats in the documentation: https://pandas.pydata.org/pandas-docs/stable/user_guide/indexing.html#returning-a-view-versus-a-copy\n",
      "  df.predicted[n-1] = prediction[0]\n"
     ]
    },
    {
     "name": "stdout",
     "output_type": "stream",
     "text": [
      "iteration:299\n",
      "iteration:300\n",
      "iteration:301\n",
      "iteration:302\n",
      "iteration:303\n",
      "iteration:304\n",
      "iteration:305\n",
      "iteration:306\n",
      "iteration:307\n",
      "iteration:308\n",
      "iteration:309\n",
      "iteration:310\n",
      "iteration:311\n",
      "iteration:312\n",
      "iteration:313\n",
      "iteration:314\n",
      "iteration:315\n",
      "iteration:316\n",
      "iteration:317\n",
      "iteration:318\n",
      "iteration:319\n",
      "iteration:320\n",
      "iteration:321\n",
      "iteration:322\n",
      "iteration:323\n",
      "iteration:324\n",
      "iteration:325\n",
      "iteration:326\n",
      "iteration:327\n",
      "iteration:328\n",
      "iteration:329\n",
      "iteration:330\n",
      "iteration:331\n",
      "iteration:332\n",
      "iteration:333\n",
      "iteration:334\n",
      "iteration:335\n",
      "iteration:336\n",
      "iteration:337\n",
      "iteration:338\n",
      "iteration:339\n",
      "iteration:340\n",
      "iteration:341\n",
      "iteration:342\n",
      "iteration:343\n",
      "iteration:344\n",
      "iteration:345\n",
      "iteration:346\n",
      "iteration:347\n",
      "iteration:348\n",
      "iteration:349\n",
      "iteration:350\n",
      "iteration:351\n",
      "iteration:352\n",
      "iteration:353\n",
      "iteration:354\n",
      "iteration:355\n",
      "iteration:356\n",
      "iteration:357\n",
      "iteration:358\n",
      "iteration:359\n",
      "iteration:360\n",
      "iteration:361\n",
      "iteration:362\n",
      "iteration:363\n",
      "iteration:364\n",
      "iteration:365\n",
      "iteration:366\n",
      "iteration:367\n",
      "iteration:368\n",
      "iteration:369\n",
      "iteration:370\n",
      "iteration:371\n",
      "iteration:372\n",
      "iteration:373\n",
      "iteration:374\n",
      "iteration:375\n",
      "iteration:376\n",
      "iteration:377\n",
      "iteration:378\n",
      "iteration:379\n",
      "iteration:380\n",
      "iteration:381\n",
      "iteration:382\n",
      "iteration:383\n",
      "iteration:384\n",
      "iteration:385\n",
      "iteration:386\n",
      "iteration:387\n",
      "iteration:388\n",
      "iteration:389\n",
      "iteration:390\n",
      "iteration:391\n",
      "iteration:392\n",
      "iteration:393\n",
      "iteration:394\n",
      "iteration:395\n",
      "iteration:396\n",
      "iteration:397\n",
      "iteration:398\n",
      "iteration:399\n"
     ]
    }
   ],
   "source": [
    "loss = []\n",
    "\n",
    "for n in range(299,400):\n",
    "    rolling = df[n-299:n]\n",
    "    state = np.empty(299)\n",
    "    est = baum_welch(rolling.signal, A_init, B_init, pi_init, print_states = False)\n",
    "    \n",
    "    for t in range(299): state[t] = np.argmax(est['gamma'][t])\n",
    "    rolling['state'] = state[:299]\n",
    "    \n",
    "    prediction = rolling[-2:-1].priceclose + (rolling.r1[rolling.state==rolling[-2:-1].state[0]].mean())*rolling[-2:-1].priceclose\n",
    "    df.predicted[n-1] = prediction[0]\n",
    "    actual = rolling[-1:].priceclose\n",
    "    loss.append((prediction[0] - actual[0])**2)\n",
    "    print(f'iteration:{n}')\n",
    "    \n",
    "loss = np.array(loss)\n",
    "total_loss = loss.sum()\n",
    "mse = loss.mean()"
   ]
  },
  {
   "cell_type": "code",
   "execution_count": 45,
   "id": "ee8ac6ff",
   "metadata": {},
   "outputs": [
    {
     "data": {
      "text/plain": [
       "<matplotlib.legend.Legend at 0x7f72c4440400>"
      ]
     },
     "execution_count": 45,
     "metadata": {},
     "output_type": "execute_result"
    },
    {
     "data": {
      "image/png": "[encoded data removed]",
      "text/plain": [
       "<Figure size 1080x720 with 1 Axes>"
      ]
     },
     "metadata": {
      "needs_background": "light"
     },
     "output_type": "display_data"
    }
   ],
   "source": [
    "plt.figure(figsize=(15,10))\n",
    "plt.plot(df.priceclose)\n",
    "plt.plot(df.predicted)\n",
    "plt.xlim((18100,18300))\n",
    "plt.ylim((1300,1600))\n",
    "plt.legend(('Actual', 'Predicted'))"
   ]
  },
  {
   "cell_type": "code",
   "execution_count": null,
   "id": "99c5ac63",
   "metadata": {},
   "outputs": [],
   "source": [
    "'''\n",
    "def viterbi(V, a, b, initial_distribution):\n",
    "    T = V.shape[0]\n",
    "    M = a.shape[0]\n",
    " \n",
    "    omega = np.zeros((T, M))\n",
    "    omega[0, :] = np.log(initial_distribution * b[:, V[0]])\n",
    " \n",
    "    prev = np.zeros((T - 1, M))\n",
    " \n",
    "    for t in range(1, T):\n",
    "        for j in range(M):\n",
    "            # Same as Forward Probability\n",
    "            probability = omega[t - 1] + np.log(a[:, j]) + np.log(b[j, V[t]])\n",
    " \n",
    "            # This is our most probable state given previous state at time t (1)\n",
    "            prev[t - 1, j] = np.argmax(probability)\n",
    " \n",
    "            # This is the probability of the most probable state (2)\n",
    "            omega[t, j] = np.max(probability)\n",
    " \n",
    "    # Path Array\n",
    "    S = np.zeros(T)\n",
    " \n",
    "    # Find the most probable last hidden state\n",
    "    last_state = np.argmax(omega[T - 1, :])\n",
    " \n",
    "    S[0] = last_state\n",
    " \n",
    "    backtrack_index = 1\n",
    "    for i in range(T - 2, -1, -1):\n",
    "        S[backtrack_index] = prev[i, int(last_state)]\n",
    "        last_state = prev[i, int(last_state)]\n",
    "        backtrack_index += 1\n",
    " \n",
    "    # Flip the path array since we were backtracking\n",
    "    S = np.flip(S, axis=0)\n",
    " \n",
    "    # Convert numeric values to actual hidden states\n",
    "    result = []\n",
    "    for s in S:\n",
    "        if s == 0:\n",
    "            result.append(\"A\")\n",
    "        else:\n",
    "            result.append(\"B\")\n",
    " \n",
    "    return result\n",
    "'''"
   ]
  }
 ],
 "metadata": {
  "interpreter": {
   "hash": "1213cdf176a2db92ca84e76e3324b26633f10d8eb5a55339267d6240850a1bc3"
  },
  "kernelspec": {
   "display_name": "Python 3.8.8 ('base')",
   "language": "python",
   "name": "python3"
  },
  "language_info": {
   "codemirror_mode": {
    "name": "ipython",
    "version": 3
   },
   "file_extension": ".py",
   "mimetype": "text/x-python",
   "name": "python",
   "nbconvert_exporter": "python",
   "pygments_lexer": "ipython3",
   "version": "3.8.8"
  }
 },
 "nbformat": 4,
 "nbformat_minor": 5
}
