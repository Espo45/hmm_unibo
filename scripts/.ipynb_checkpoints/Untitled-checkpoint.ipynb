{
 "cells": [
  {
   "cell_type": "code",
   "execution_count": 1,
   "id": "ddf705f4",
   "metadata": {},
   "outputs": [],
   "source": [
    "import numpy as np\n",
    "import pandas as pd\n",
    "import matplotlib.pyplot as plt\n",
    "import random"
   ]
  },
  {
   "cell_type": "code",
   "execution_count": 2,
   "id": "bb5226b9",
   "metadata": {},
   "outputs": [
    {
     "data": {
      "text/html": [
       "<div>\n",
       "<style scoped>\n",
       "    .dataframe tbody tr th:only-of-type {\n",
       "        vertical-align: middle;\n",
       "    }\n",
       "\n",
       "    .dataframe tbody tr th {\n",
       "        vertical-align: top;\n",
       "    }\n",
       "\n",
       "    .dataframe thead th {\n",
       "        text-align: right;\n",
       "    }\n",
       "</style>\n",
       "<table border=\"1\" class=\"dataframe\">\n",
       "  <thead>\n",
       "    <tr style=\"text-align: right;\">\n",
       "      <th></th>\n",
       "      <th>pricingdate</th>\n",
       "      <th>priceclose</th>\n",
       "      <th>r1</th>\n",
       "      <th>signal</th>\n",
       "    </tr>\n",
       "  </thead>\n",
       "  <tbody>\n",
       "    <tr>\n",
       "      <th>0</th>\n",
       "      <td>2018-06-12</td>\n",
       "      <td>1293.170013</td>\n",
       "      <td>0.002628</td>\n",
       "      <td>1</td>\n",
       "    </tr>\n",
       "    <tr>\n",
       "      <th>1</th>\n",
       "      <td>2018-06-13</td>\n",
       "      <td>1296.170003</td>\n",
       "      <td>0.002320</td>\n",
       "      <td>1</td>\n",
       "    </tr>\n",
       "    <tr>\n",
       "      <th>2</th>\n",
       "      <td>2018-06-14</td>\n",
       "      <td>1303.909986</td>\n",
       "      <td>0.005971</td>\n",
       "      <td>1</td>\n",
       "    </tr>\n",
       "    <tr>\n",
       "      <th>3</th>\n",
       "      <td>2018-06-15</td>\n",
       "      <td>1308.450022</td>\n",
       "      <td>0.003482</td>\n",
       "      <td>1</td>\n",
       "    </tr>\n",
       "    <tr>\n",
       "      <th>4</th>\n",
       "      <td>2018-06-18</td>\n",
       "      <td>1299.859995</td>\n",
       "      <td>-0.006565</td>\n",
       "      <td>0</td>\n",
       "    </tr>\n",
       "    <tr>\n",
       "      <th>...</th>\n",
       "      <td>...</td>\n",
       "      <td>...</td>\n",
       "      <td>...</td>\n",
       "      <td>...</td>\n",
       "    </tr>\n",
       "    <tr>\n",
       "      <th>995</th>\n",
       "      <td>2022-05-24</td>\n",
       "      <td>1871.590002</td>\n",
       "      <td>0.002630</td>\n",
       "      <td>1</td>\n",
       "    </tr>\n",
       "    <tr>\n",
       "      <th>996</th>\n",
       "      <td>2022-05-25</td>\n",
       "      <td>1913.690022</td>\n",
       "      <td>0.022494</td>\n",
       "      <td>1</td>\n",
       "    </tr>\n",
       "    <tr>\n",
       "      <th>997</th>\n",
       "      <td>2022-05-26</td>\n",
       "      <td>1923.819968</td>\n",
       "      <td>0.005293</td>\n",
       "      <td>1</td>\n",
       "    </tr>\n",
       "    <tr>\n",
       "      <th>998</th>\n",
       "      <td>2022-05-27</td>\n",
       "      <td>1967.990009</td>\n",
       "      <td>0.022960</td>\n",
       "      <td>1</td>\n",
       "    </tr>\n",
       "    <tr>\n",
       "      <th>999</th>\n",
       "      <td>2022-05-31</td>\n",
       "      <td>1934.319976</td>\n",
       "      <td>-0.017109</td>\n",
       "      <td>0</td>\n",
       "    </tr>\n",
       "  </tbody>\n",
       "</table>\n",
       "<p>1000 rows × 4 columns</p>\n",
       "</div>"
      ],
      "text/plain": [
       "    pricingdate   priceclose        r1  signal\n",
       "0    2018-06-12  1293.170013  0.002628       1\n",
       "1    2018-06-13  1296.170003  0.002320       1\n",
       "2    2018-06-14  1303.909986  0.005971       1\n",
       "3    2018-06-15  1308.450022  0.003482       1\n",
       "4    2018-06-18  1299.859995 -0.006565       0\n",
       "..          ...          ...       ...     ...\n",
       "995  2022-05-24  1871.590002  0.002630       1\n",
       "996  2022-05-25  1913.690022  0.022494       1\n",
       "997  2022-05-26  1923.819968  0.005293       1\n",
       "998  2022-05-27  1967.990009  0.022960       1\n",
       "999  2022-05-31  1934.319976 -0.017109       0\n",
       "\n",
       "[1000 rows x 4 columns]"
      ]
     },
     "execution_count": 2,
     "metadata": {},
     "output_type": "execute_result"
    }
   ],
   "source": [
    "df = pd.read_csv('../HMM_randomportfolio.csv')\n",
    "df = df.tail(1000)\n",
    "#df = df.set_index(df.pricingdate).drop('pricingdate', axis=1)\n",
    "df = df.reset_index().drop('index', axis=1)\n",
    "df"
   ]
  },
  {
   "cell_type": "code",
   "execution_count": 3,
   "id": "4e8b2861",
   "metadata": {},
   "outputs": [],
   "source": [
    "def initial_matrices(n_hidden, n_visible, random_state = 2452):\n",
    "    random.seed(random_state)\n",
    "    A = np.zeros((n_hidden, n_hidden))\n",
    "    for i in range(A.shape[0]):\n",
    "        A[i] = np.array([(1/n_hidden)+np.random.normal(0,0.2),(1/n_hidden)+np.random.normal(0,0.2), 0])\n",
    "        A[i,A.shape[0]-1] = 1 - sum(A[i])\n",
    "    B = np.zeros((n_hidden,n_visible))\n",
    "    for i in range(B.shape[0]):\n",
    "        B[i] = np.array([(1/n_visible)+np.random.normal(0,0.2), 0])\n",
    "        B[i, B.shape[1]-1] = 1 - sum(B[i])\n",
    "    pi = np.zeros(n_hidden)\n",
    "    for i in range(pi.shape[0]):\n",
    "        pi[i] = np.mean(A[:,i])\n",
    "    return A, B, pi"
   ]
  },
  {
   "cell_type": "code",
   "execution_count": 4,
   "id": "18e99549",
   "metadata": {},
   "outputs": [],
   "source": [
    "S = ['B','H','S'] # buy, hold, sell"
   ]
  },
  {
   "cell_type": "code",
   "execution_count": 5,
   "id": "3d5a1f78",
   "metadata": {},
   "outputs": [],
   "source": [
    "n_visible = len(df.signal.unique())\n",
    "n_hidden = len(S)"
   ]
  },
  {
   "cell_type": "code",
   "execution_count": 6,
   "id": "27bd356a",
   "metadata": {},
   "outputs": [],
   "source": [
    "A, B, pi = initial_matrices(n_hidden, n_visible)"
   ]
  },
  {
   "cell_type": "code",
   "execution_count": 7,
   "id": "3b296abe",
   "metadata": {},
   "outputs": [],
   "source": [
    "def forward(V, A, B, pi):\n",
    "    T = V.shape[0]\n",
    "    N = B.shape[0]\n",
    "    \n",
    "    alpha = np.zeros((T,N))\n",
    "    alpha[0] = pi[0] * B[:,V[0]]\n",
    "        \n",
    "    for t in range(0,T-1):\n",
    "        for j in range(N):\n",
    "            alpha[t+1,j] = alpha[t,:].dot(A[:,j]) * (B[j,V[t+1]])\n",
    "            \n",
    "    return alpha"
   ]
  },
  {
   "cell_type": "code",
   "execution_count": 8,
   "id": "f8600d40",
   "metadata": {},
   "outputs": [],
   "source": [
    "def backward(V, A, B):\n",
    "    T = V.shape[0]\n",
    "    N = B.shape[0]\n",
    "    \n",
    "    beta = np.zeros((T,N))\n",
    "    beta[T-1] = np.ones((N))\n",
    "    \n",
    "    for t in range(T-2, -1, -1):\n",
    "        for j in range(N):\n",
    "            beta[t,j] = (beta[t+1,:] * B[:,V[t+1]]).dot(A[j,:])\n",
    "            \n",
    "    return beta"
   ]
  },
  {
   "cell_type": "code",
   "execution_count": 9,
   "id": "16577d7d",
   "metadata": {},
   "outputs": [],
   "source": [
    "def viterbi(V, A, B, pi):\n",
    "    T = V.shape[0]\n",
    "    N = A.shape[0]\n",
    "    \n",
    "    alpha = forward(V, A, B, pi)\n",
    "    beta = backward(V, A, B)\n",
    "    \n",
    "    gamma = np.zeros((T, N))\n",
    "    for i in range(N):\n",
    "        for t in range(T):\n",
    "            gamma[t,i] = (alpha[t,i] * beta[t,i]) / sum(alpha[t]*beta[t])\n",
    "    \n",
    "    return gamma"
   ]
  },
  {
   "cell_type": "code",
   "execution_count": 10,
   "id": "2180554c",
   "metadata": {},
   "outputs": [],
   "source": [
    "def baum_welch(V, A, B, pi, n_iter=100):\n",
    "    T = V.shape[0]\n",
    "    N = A.shape[0]\n",
    " \n",
    "    for n in range(n_iter):\n",
    "        alpha = forward(V, A,B,pi)\n",
    "        beta = backward(V, A,B)\n",
    " \n",
    "        xi = np.zeros((N, N, T - 1))\n",
    "        for t in range(T - 1):\n",
    "            denominator = np.dot(np.dot(alpha[t, :].T, A) * B[:, V[t + 1]].T, beta[t + 1, :])\n",
    "            for i in range(N):\n",
    "                numerator = alpha[t, i] * A[i, :] * B[:, V[t + 1]].T * beta[t + 1, :].T\n",
    "                xi[i, :, t] = numerator / denominator\n",
    " \n",
    "        gamma = np.sum(xi, axis=1)\n",
    "        A = np.sum(xi, 2) / np.sum(gamma, axis=1).reshape((-1, 1))\n",
    " \n",
    "        # Add additional T'th element in gamma\n",
    "        gamma = np.hstack((gamma, np.sum(xi[:, :, T - 2], axis=0).reshape((-1, 1))))\n",
    " \n",
    "        K = B.shape[1]\n",
    "        denominator = np.sum(gamma, axis=1)\n",
    "        for l in range(K):\n",
    "            B[:, l] = np.sum(gamma[:, V == l], axis=1)\n",
    " \n",
    "        B = np.divide(B, denominator.reshape((-1, 1)))\n",
    " \n",
    "    return (A, B)\n",
    " \n",
    " "
   ]
  },
  {
   "cell_type": "code",
   "execution_count": 11,
   "id": "389b0bb9",
   "metadata": {},
   "outputs": [],
   "source": [
    "t = baum_welch(df.signal, A, B, pi, n_iter=)"
   ]
  },
  {
   "cell_type": "code",
   "execution_count": 12,
   "id": "b59ce7c5",
   "metadata": {},
   "outputs": [
    {
     "data": {
      "text/plain": [
       "(array([[0.42871683, 0.2193267 , 0.35195646],\n",
       "        [0.28687645, 0.22500404, 0.48811951],\n",
       "        [0.50184183, 0.33918807, 0.1589701 ]]),\n",
       " array([[0.63171634, 0.36828366],\n",
       "        [0.63759113, 0.36240887],\n",
       "        [0.08287226, 0.91712774]]))"
      ]
     },
     "execution_count": 12,
     "metadata": {},
     "output_type": "execute_result"
    }
   ],
   "source": [
    "t"
   ]
  },
  {
   "cell_type": "code",
   "execution_count": null,
   "id": "6d930145",
   "metadata": {},
   "outputs": [],
   "source": [
    "gamma = viterbi(df.signal,t[0],t[1],pi)\n",
    "h = np.zeros((gamma.shape[0]))\n",
    "for i in range(gamma.shape[0]):\n",
    "    h[i] = np.argmax(gamma[i])\n",
    "\n",
    "h"
   ]
  },
  {
   "cell_type": "code",
   "execution_count": null,
   "id": "e6b24e97",
   "metadata": {},
   "outputs": [],
   "source": [
    "pd.DataFrame(h).value_counts()"
   ]
  },
  {
   "cell_type": "code",
   "execution_count": null,
   "id": "99c5ac63",
   "metadata": {},
   "outputs": [],
   "source": [
    "def viterbi(V, a, b, initial_distribution):\n",
    "    T = V.shape[0]\n",
    "    M = a.shape[0]\n",
    " \n",
    "    omega = np.zeros((T, M))\n",
    "    omega[0, :] = np.log(initial_distribution * b[:, V[0]])\n",
    " \n",
    "    prev = np.zeros((T - 1, M))\n",
    " \n",
    "    for t in range(1, T):\n",
    "        for j in range(M):\n",
    "            # Same as Forward Probability\n",
    "            probability = omega[t - 1] + np.log(a[:, j]) + np.log(b[j, V[t]])\n",
    " \n",
    "            # This is our most probable state given previous state at time t (1)\n",
    "            prev[t - 1, j] = np.argmax(probability)\n",
    " \n",
    "            # This is the probability of the most probable state (2)\n",
    "            omega[t, j] = np.max(probability)\n",
    " \n",
    "    # Path Array\n",
    "    S = np.zeros(T)\n",
    " \n",
    "    # Find the most probable last hidden state\n",
    "    last_state = np.argmax(omega[T - 1, :])\n",
    " \n",
    "    S[0] = last_state\n",
    " \n",
    "    backtrack_index = 1\n",
    "    for i in range(T - 2, -1, -1):\n",
    "        S[backtrack_index] = prev[i, int(last_state)]\n",
    "        last_state = prev[i, int(last_state)]\n",
    "        backtrack_index += 1\n",
    " \n",
    "    # Flip the path array since we were backtracking\n",
    "    S = np.flip(S, axis=0)\n",
    " \n",
    "    # Convert numeric values to actual hidden states\n",
    "    result = []\n",
    "    for s in S:\n",
    "        if s == 0:\n",
    "            result.append(\"A\")\n",
    "        else:\n",
    "            result.append(\"B\")\n",
    " \n",
    "    return result"
   ]
  },
  {
   "cell_type": "code",
   "execution_count": null,
   "id": "c0916323",
   "metadata": {},
   "outputs": [],
   "source": [
    "v = viterbi(df.signal, t[0], t[1], pi)"
   ]
  },
  {
   "cell_type": "code",
   "execution_count": null,
   "id": "f14704ef",
   "metadata": {},
   "outputs": [],
   "source": [
    "v"
   ]
  }
 ],
 "metadata": {
  "kernelspec": {
   "display_name": "Python 3 (ipykernel)",
   "language": "python",
   "name": "python3"
  },
  "language_info": {
   "codemirror_mode": {
    "name": "ipython",
    "version": 3
   },
   "file_extension": ".py",
   "mimetype": "text/x-python",
   "name": "python",
   "nbconvert_exporter": "python",
   "pygments_lexer": "ipython3",
   "version": "3.8.8"
  }
 },
 "nbformat": 4,
 "nbformat_minor": 5
}
