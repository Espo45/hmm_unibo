{
 "cells": [
  {
   "cell_type": "code",
   "execution_count": 27,
   "id": "ddf705f4",
   "metadata": {},
   "outputs": [],
   "source": [
    "import numpy as np\n",
    "import pandas as pd\n",
    "import matplotlib.pyplot as plt\n",
    "import random\n",
    "from utils import *\n",
    "from hmmlearn import hmm"
   ]
  },
  {
   "cell_type": "code",
   "execution_count": 28,
   "id": "bb5226b9",
   "metadata": {},
   "outputs": [
    {
     "data": {
      "text/html": [
       "<div>\n",
       "<style scoped>\n",
       "    .dataframe tbody tr th:only-of-type {\n",
       "        vertical-align: middle;\n",
       "    }\n",
       "\n",
       "    .dataframe tbody tr th {\n",
       "        vertical-align: top;\n",
       "    }\n",
       "\n",
       "    .dataframe thead th {\n",
       "        text-align: right;\n",
       "    }\n",
       "</style>\n",
       "<table border=\"1\" class=\"dataframe\">\n",
       "  <thead>\n",
       "    <tr style=\"text-align: right;\">\n",
       "      <th></th>\n",
       "      <th>priceclose</th>\n",
       "      <th>r1</th>\n",
       "      <th>signal</th>\n",
       "      <th>predicted</th>\n",
       "    </tr>\n",
       "    <tr>\n",
       "      <th>pricingdate</th>\n",
       "      <th></th>\n",
       "      <th></th>\n",
       "      <th></th>\n",
       "      <th></th>\n",
       "    </tr>\n",
       "  </thead>\n",
       "  <tbody>\n",
       "    <tr>\n",
       "      <th>2018-06-12</th>\n",
       "      <td>1293.170013</td>\n",
       "      <td>0.002628</td>\n",
       "      <td>1</td>\n",
       "      <td>0.0</td>\n",
       "    </tr>\n",
       "    <tr>\n",
       "      <th>2018-06-13</th>\n",
       "      <td>1296.170003</td>\n",
       "      <td>0.002320</td>\n",
       "      <td>1</td>\n",
       "      <td>0.0</td>\n",
       "    </tr>\n",
       "    <tr>\n",
       "      <th>2018-06-14</th>\n",
       "      <td>1303.909986</td>\n",
       "      <td>0.005971</td>\n",
       "      <td>1</td>\n",
       "      <td>0.0</td>\n",
       "    </tr>\n",
       "    <tr>\n",
       "      <th>2018-06-15</th>\n",
       "      <td>1308.450022</td>\n",
       "      <td>0.003482</td>\n",
       "      <td>1</td>\n",
       "      <td>0.0</td>\n",
       "    </tr>\n",
       "    <tr>\n",
       "      <th>2018-06-18</th>\n",
       "      <td>1299.859995</td>\n",
       "      <td>-0.006565</td>\n",
       "      <td>0</td>\n",
       "      <td>0.0</td>\n",
       "    </tr>\n",
       "    <tr>\n",
       "      <th>...</th>\n",
       "      <td>...</td>\n",
       "      <td>...</td>\n",
       "      <td>...</td>\n",
       "      <td>...</td>\n",
       "    </tr>\n",
       "    <tr>\n",
       "      <th>2022-05-24</th>\n",
       "      <td>1871.590002</td>\n",
       "      <td>0.002630</td>\n",
       "      <td>1</td>\n",
       "      <td>0.0</td>\n",
       "    </tr>\n",
       "    <tr>\n",
       "      <th>2022-05-25</th>\n",
       "      <td>1913.690022</td>\n",
       "      <td>0.022494</td>\n",
       "      <td>1</td>\n",
       "      <td>0.0</td>\n",
       "    </tr>\n",
       "    <tr>\n",
       "      <th>2022-05-26</th>\n",
       "      <td>1923.819968</td>\n",
       "      <td>0.005293</td>\n",
       "      <td>1</td>\n",
       "      <td>0.0</td>\n",
       "    </tr>\n",
       "    <tr>\n",
       "      <th>2022-05-27</th>\n",
       "      <td>1967.990009</td>\n",
       "      <td>0.022960</td>\n",
       "      <td>1</td>\n",
       "      <td>0.0</td>\n",
       "    </tr>\n",
       "    <tr>\n",
       "      <th>2022-05-31</th>\n",
       "      <td>1934.319976</td>\n",
       "      <td>-0.017109</td>\n",
       "      <td>0</td>\n",
       "      <td>0.0</td>\n",
       "    </tr>\n",
       "  </tbody>\n",
       "</table>\n",
       "<p>1000 rows × 4 columns</p>\n",
       "</div>"
      ],
      "text/plain": [
       "              priceclose        r1  signal  predicted\n",
       "pricingdate                                          \n",
       "2018-06-12   1293.170013  0.002628       1        0.0\n",
       "2018-06-13   1296.170003  0.002320       1        0.0\n",
       "2018-06-14   1303.909986  0.005971       1        0.0\n",
       "2018-06-15   1308.450022  0.003482       1        0.0\n",
       "2018-06-18   1299.859995 -0.006565       0        0.0\n",
       "...                  ...       ...     ...        ...\n",
       "2022-05-24   1871.590002  0.002630       1        0.0\n",
       "2022-05-25   1913.690022  0.022494       1        0.0\n",
       "2022-05-26   1923.819968  0.005293       1        0.0\n",
       "2022-05-27   1967.990009  0.022960       1        0.0\n",
       "2022-05-31   1934.319976 -0.017109       0        0.0\n",
       "\n",
       "[1000 rows x 4 columns]"
      ]
     },
     "execution_count": 28,
     "metadata": {},
     "output_type": "execute_result"
    }
   ],
   "source": [
    "df = pd.read_csv('../HMM_randomportfolio.csv')\n",
    "df.pricingdate = df.pricingdate.astype('datetime64')\n",
    "df = df.tail(1000)\n",
    "df = df.set_index(df.pricingdate).drop('pricingdate', axis=1)\n",
    "df['predicted'] = np.zeros(len(df.priceclose))\n",
    "df"
   ]
  },
  {
   "cell_type": "code",
   "execution_count": 3,
   "id": "91cd30fa",
   "metadata": {},
   "outputs": [
    {
     "data": {
      "text/plain": [
       "[<matplotlib.lines.Line2D at 0x7f72c666f250>]"
      ]
     },
     "execution_count": 3,
     "metadata": {},
     "output_type": "execute_result"
    },
    {
     "data": {
      "image/png": "[encoded data removed]",
      "text/plain": [
       "<Figure size 432x288 with 1 Axes>"
      ]
     },
     "metadata": {
      "needs_background": "light"
     },
     "output_type": "display_data"
    }
   ],
   "source": [
    "plt.plot(df.priceclose)"
   ]
  },
  {
   "cell_type": "code",
   "execution_count": 4,
   "id": "18e99549",
   "metadata": {},
   "outputs": [],
   "source": [
    "S = ['B','S'] # buy, hold, sell"
   ]
  },
  {
   "cell_type": "code",
   "execution_count": 5,
   "id": "3d5a1f78",
   "metadata": {},
   "outputs": [],
   "source": [
    "n_visible = len(df.signal.unique())\n",
    "n_hidden = len(S)"
   ]
  },
  {
   "cell_type": "code",
   "execution_count": 6,
   "id": "3b296abe",
   "metadata": {},
   "outputs": [],
   "source": [
    "def forward(V, A, B, pi):\n",
    "    T = V.shape[0]\n",
    "    N = A.shape[0]\n",
    "    \n",
    "    alpha = np.zeros((T,N))\n",
    "    alpha[0] = pi[0] * B[:,V[0]]  \n",
    "    for t in range(0,T-1): alpha[t+1] = np.array([alpha[t,:].dot(A[:,j]) * (B[j,V[t+1]]) for j in range(N)])\n",
    "            \n",
    "    return alpha"
   ]
  },
  {
   "cell_type": "code",
   "execution_count": 7,
   "id": "f8600d40",
   "metadata": {},
   "outputs": [],
   "source": [
    "def backward(V, A, B):\n",
    "    T = V.shape[0]\n",
    "    N = A.shape[0]\n",
    "    \n",
    "    beta = np.zeros((T,N))\n",
    "    beta[T-1] = np.ones((N))\n",
    "    for t in range(T-2, -1, -1): beta[t] = np.array([(beta[t+1,:] * B[:,V[t+1]]).dot(A[j,:]) for j in range(N)])\n",
    "            \n",
    "    return beta"
   ]
  },
  {
   "cell_type": "code",
   "execution_count": 8,
   "id": "2180554c",
   "metadata": {},
   "outputs": [],
   "source": [
    "def baum_welch(V, A, B, pi, max_iter=100, epsilon=1e-5, print_states=True):\n",
    "    T = V.shape[0]\n",
    "    N = A.shape[0]\n",
    "    \n",
    "    # initialization: for the first iteration, our estimated parameters will be the initial ones\n",
    "    A_bar = A\n",
    "    B_bar = B\n",
    "    pi_bar = pi\n",
    "    \n",
    "    for iteration in range(max_iter):\n",
    "        alpha = forward(V, A_bar, B_bar, pi_bar)\n",
    "        beta = backward(V, A_bar, B_bar)\n",
    "\n",
    "        xi = np.zeros((T, N, N))\n",
    "        for t in range(T-1):\n",
    "            denominator = sum(alpha[t,:].dot(A_bar[:,:]) * B_bar[:,V[t+1]] * beta[t+1,:])\n",
    "            for i in range(N):\n",
    "                for j in range(N):\n",
    "                    numerator = alpha[t,i] * A_bar[i,j] * (B_bar[j,V[t+1]]) * beta[t+1,j] \n",
    "                    xi[t,i,j] = numerator / denominator \n",
    "\n",
    "        # note: gamma can be also computed as\n",
    "        gamma = np.zeros((T,N))\n",
    "        for t in range(T): gamma[t] = np.array([sum(xi[t,i,:]) for i in range(N)])\n",
    "\n",
    "        # expectation-maximization step\n",
    "        pi_bar = np.array([gamma[0,i] for i in range(N)])\n",
    "\n",
    "        prev = [A_bar, B_bar, pi_bar]\n",
    "               \n",
    "        A_bar = np.zeros((N,N))\n",
    "        for i in range(N): A_bar[i] = np.array([xi[:-1,i,j].sum() / gamma[:-1,i].sum() for j in range(N)])\n",
    "\n",
    "        B_bar = np.zeros(B.shape)\n",
    "        for j in range(B.shape[0]):\n",
    "            for k in range(B.shape[1]):\n",
    "                # we need to define a list of times t_bar where V[t] is equal to k\n",
    "                t_bar = [0,0]\n",
    "                for i in sorted(V.unique()): t_bar[i] = [t for t in range(T) if V[t]==k]\n",
    "                B_bar[j,k] = sum([gamma[t,j] for t in t_bar[k]]) / gamma[:,j].sum()\n",
    "        \n",
    "        A_delta = delta(A_bar, prev[0])\n",
    "        B_delta = delta(B_bar, prev[1])\n",
    "        pi_delta = delta(pi_bar, prev[2])\n",
    "        \n",
    "        e = A_delta + B_delta + pi_delta\n",
    "        \n",
    "        if print_states == True: print(f'iteration {iteration} - delta {e}')\n",
    "        if e < epsilon: break\n",
    "\n",
    "    return {'A_hat': A_bar, 'B_hat': B_bar, 'pi_hat': pi_bar, 'gamma': gamma}"
   ]
  },
  {
   "cell_type": "code",
   "execution_count": null,
   "id": "f4977607",
   "metadata": {
    "scrolled": true
   },
   "outputs": [],
   "source": [
    "rolling1 = df[0:299]\n",
    "state = np.empty(299)\n",
    "plt.plot(rolling1.priceclose)"
   ]
  },
  {
   "cell_type": "code",
   "execution_count": 9,
   "id": "9bb4f09c",
   "metadata": {},
   "outputs": [],
   "source": [
    "A_init = np.array([[.95,.05],\n",
    "                  [.15,.85]])\n",
    "B_init = np.array([[.8,.2],\n",
    "                   [.2,.8]])\n",
    "pi_init = np.array([1.1/2,.9/2])"
   ]
  },
  {
   "cell_type": "code",
   "execution_count": null,
   "id": "4e817234",
   "metadata": {},
   "outputs": [],
   "source": [
    "est= baum_welch(rolling1.signal, A_init, B_init, pi_init)"
   ]
  },
  {
   "cell_type": "code",
   "execution_count": null,
   "id": "d7eeef38",
   "metadata": {},
   "outputs": [],
   "source": [
    "est"
   ]
  },
  {
   "cell_type": "code",
   "execution_count": null,
   "id": "38dffe30",
   "metadata": {
    "scrolled": true
   },
   "outputs": [],
   "source": [
    "for t in range(299): state[t] = np.argmax(est['gamma'][t])\n",
    "rolling1['state'] = state[:299]"
   ]
  },
  {
   "cell_type": "code",
   "execution_count": null,
   "id": "c68a526e",
   "metadata": {},
   "outputs": [],
   "source": [
    "plt.figure(figsize=(15,10))\n",
    "plt.plot(rolling1.priceclose, color='black',alpha=.8)\n",
    "plt.fill_between(rolling1.index,rolling1.priceclose,1000,where=rolling1.state==0, color='red', alpha=.7)\n",
    "plt.fill_between(rolling1.index,rolling1.priceclose,1000,where=rolling1.state==1, color='green', alpha=.7)"
   ]
  },
  {
   "cell_type": "code",
   "execution_count": null,
   "id": "d4cec88d",
   "metadata": {},
   "outputs": [],
   "source": []
  },
  {
   "cell_type": "code",
   "execution_count": null,
   "id": "9a615d36",
   "metadata": {},
   "outputs": [],
   "source": [
    "rolling1.r1[rolling1.state==1].mean()"
   ]
  },
  {
   "cell_type": "code",
   "execution_count": null,
   "id": "ee80a7c0",
   "metadata": {
    "scrolled": true
   },
   "outputs": [],
   "source": [
    " # conditional distribution of r1 given the state\n",
    "(rolling1.r1[rolling1.state==0]*100).plot.density()\n",
    "(rolling1.r1[rolling1.state==1]*100).plot.density()\n",
    "plt.legend(['Sell','Buy'])\n",
    "plt.xlabel('% of increasing return')"
   ]
  },
  {
   "cell_type": "code",
   "execution_count": null,
   "id": "136fc217",
   "metadata": {},
   "outputs": [],
   "source": [
    "prediction = rolling1[-2:-1].priceclose + (rolling1.r1[rolling1.state==rolling1[-2:-1].state[0]].mean())*rolling1[-2:-1].priceclose\n",
    "df.predicted[298] = prediction[0]\n",
    "prediction"
   ]
  },
  {
   "cell_type": "code",
   "execution_count": null,
   "id": "4773930b",
   "metadata": {},
   "outputs": [],
   "source": [
    "actual = rolling1[-1:].priceclose\n",
    "actual"
   ]
  },
  {
   "cell_type": "code",
   "execution_count": null,
   "id": "5f702758",
   "metadata": {},
   "outputs": [],
   "source": [
    "loss = (prediction[0] - actual[0])**2\n",
    "loss"
   ]
  },
  {
   "cell_type": "code",
   "execution_count": 29,
   "id": "b5654100",
   "metadata": {},
   "outputs": [
    {
     "name": "stderr",
     "output_type": "stream",
     "text": [
      "/tmp/ipykernel_49777/3500476163.py:9: SettingWithCopyWarning: \n",
      "A value is trying to be set on a copy of a slice from a DataFrame.\n",
      "Try using .loc[row_indexer,col_indexer] = value instead\n",
      "\n",
      "See the caveats in the documentation: https://pandas.pydata.org/pandas-docs/stable/user_guide/indexing.html#returning-a-view-versus-a-copy\n",
      "  rolling['state'] = state[:299]\n",
      "/tmp/ipykernel_49777/3500476163.py:12: SettingWithCopyWarning: \n",
      "A value is trying to be set on a copy of a slice from a DataFrame\n",
      "\n",
      "See the caveats in the documentation: https://pandas.pydata.org/pandas-docs/stable/user_guide/indexing.html#returning-a-view-versus-a-copy\n",
      "  df.predicted[n-1] = prediction[0]\n"
     ]
    },
    {
     "name": "stdout",
     "output_type": "stream",
     "text": [
      "iteration:299\n",
      "iteration:300\n",
      "iteration:301\n",
      "iteration:302\n",
      "iteration:303\n",
      "iteration:304\n",
      "iteration:305\n",
      "iteration:306\n",
      "iteration:307\n",
      "iteration:308\n",
      "iteration:309\n",
      "iteration:310\n",
      "iteration:311\n",
      "iteration:312\n",
      "iteration:313\n",
      "iteration:314\n",
      "iteration:315\n",
      "iteration:316\n",
      "iteration:317\n",
      "iteration:318\n",
      "iteration:319\n",
      "iteration:320\n",
      "iteration:321\n",
      "iteration:322\n",
      "iteration:323\n",
      "iteration:324\n",
      "iteration:325\n",
      "iteration:326\n",
      "iteration:327\n",
      "iteration:328\n",
      "iteration:329\n",
      "iteration:330\n",
      "iteration:331\n",
      "iteration:332\n",
      "iteration:333\n",
      "iteration:334\n",
      "iteration:335\n",
      "iteration:336\n",
      "iteration:337\n",
      "iteration:338\n",
      "iteration:339\n",
      "iteration:340\n",
      "iteration:341\n",
      "iteration:342\n",
      "iteration:343\n",
      "iteration:344\n",
      "iteration:345\n",
      "iteration:346\n",
      "iteration:347\n",
      "iteration:348\n",
      "iteration:349\n",
      "iteration:350\n",
      "iteration:351\n",
      "iteration:352\n",
      "iteration:353\n",
      "iteration:354\n",
      "iteration:355\n",
      "iteration:356\n",
      "iteration:357\n",
      "iteration:358\n",
      "iteration:359\n",
      "iteration:360\n",
      "iteration:361\n",
      "iteration:362\n",
      "iteration:363\n",
      "iteration:364\n",
      "iteration:365\n",
      "iteration:366\n",
      "iteration:367\n",
      "iteration:368\n",
      "iteration:369\n",
      "iteration:370\n",
      "iteration:371\n",
      "iteration:372\n",
      "iteration:373\n",
      "iteration:374\n",
      "iteration:375\n",
      "iteration:376\n",
      "iteration:377\n",
      "iteration:378\n",
      "iteration:379\n",
      "iteration:380\n",
      "iteration:381\n",
      "iteration:382\n",
      "iteration:383\n",
      "iteration:384\n",
      "iteration:385\n",
      "iteration:386\n",
      "iteration:387\n",
      "iteration:388\n",
      "iteration:389\n",
      "iteration:390\n",
      "iteration:391\n",
      "iteration:392\n",
      "iteration:393\n",
      "iteration:394\n",
      "iteration:395\n",
      "iteration:396\n",
      "iteration:397\n",
      "iteration:398\n",
      "iteration:399\n"
     ]
    }
   ],
   "source": [
    "loss = []\n",
    "\n",
    "for n in range(299,400):\n",
    "    rolling = df[n-299:n]\n",
    "    state = np.empty(299)\n",
    "    est = baum_welch(rolling.signal, A_init, B_init, pi_init, print_states = False)\n",
    "    \n",
    "    for t in range(299): state[t] = np.argmax(est['gamma'][t])\n",
    "    rolling['state'] = state[:299]\n",
    "    \n",
    "    prediction = rolling[-2:-1].priceclose + (rolling.r1[rolling.state==rolling[-2:-1].state[0]].mean())*rolling[-2:-1].priceclose\n",
    "    df.predicted[n-1] = prediction[0]\n",
    "    actual = rolling[-1:].priceclose\n",
    "    loss.append((prediction[0] - actual[0])**2)\n",
    "    print(f'iteration:{n}')\n",
    "    \n",
    "loss = np.array(loss)\n",
    "total_loss = loss.sum()\n",
    "mse = loss.mean()"
   ]
  },
  {
   "cell_type": "code",
   "execution_count": 45,
   "id": "ee8ac6ff",
   "metadata": {},
   "outputs": [
    {
     "data": {
      "text/plain": [
       "<matplotlib.legend.Legend at 0x7f72c4440400>"
      ]
     },
     "execution_count": 45,
     "metadata": {},
     "output_type": "execute_result"
    },
    {
     "data": {
      "image/png": "[encoded data removed]",
      "text/plain": [
       "<Figure size 1080x720 with 1 Axes>"
      ]
     },
     "metadata": {
      "needs_background": "light"
     },
     "output_type": "display_data"
    }
   ],
   "source": [
    "plt.figure(figsize=(15,10))\n",
    "plt.plot(df.priceclose)\n",
    "plt.plot(df.predicted)\n",
    "plt.xlim((18100,18300))\n",
    "plt.ylim((1300,1600))\n",
    "plt.legend(('Actual', 'Predicted'))"
   ]
  },
  {
   "cell_type": "code",
   "execution_count": null,
   "id": "99c5ac63",
   "metadata": {},
   "outputs": [],
   "source": [
    "'''\n",
    "def viterbi(V, a, b, initial_distribution):\n",
    "    T = V.shape[0]\n",
    "    M = a.shape[0]\n",
    " \n",
    "    omega = np.zeros((T, M))\n",
    "    omega[0, :] = np.log(initial_distribution * b[:, V[0]])\n",
    " \n",
    "    prev = np.zeros((T - 1, M))\n",
    " \n",
    "    for t in range(1, T):\n",
    "        for j in range(M):\n",
    "            # Same as Forward Probability\n",
    "            probability = omega[t - 1] + np.log(a[:, j]) + np.log(b[j, V[t]])\n",
    " \n",
    "            # This is our most probable state given previous state at time t (1)\n",
    "            prev[t - 1, j] = np.argmax(probability)\n",
    " \n",
    "            # This is the probability of the most probable state (2)\n",
    "            omega[t, j] = np.max(probability)\n",
    " \n",
    "    # Path Array\n",
    "    S = np.zeros(T)\n",
    " \n",
    "    # Find the most probable last hidden state\n",
    "    last_state = np.argmax(omega[T - 1, :])\n",
    " \n",
    "    S[0] = last_state\n",
    " \n",
    "    backtrack_index = 1\n",
    "    for i in range(T - 2, -1, -1):\n",
    "        S[backtrack_index] = prev[i, int(last_state)]\n",
    "        last_state = prev[i, int(last_state)]\n",
    "        backtrack_index += 1\n",
    " \n",
    "    # Flip the path array since we were backtracking\n",
    "    S = np.flip(S, axis=0)\n",
    " \n",
    "    # Convert numeric values to actual hidden states\n",
    "    result = []\n",
    "    for s in S:\n",
    "        if s == 0:\n",
    "            result.append(\"A\")\n",
    "        else:\n",
    "            result.append(\"B\")\n",
    " \n",
    "    return result\n",
    "'''"
   ]
  }
 ],
 "metadata": {
  "kernelspec": {
   "display_name": "Python 3 (ipykernel)",
   "language": "python",
   "name": "python3"
  },
  "language_info": {
   "codemirror_mode": {
    "name": "ipython",
    "version": 3
   },
   "file_extension": ".py",
   "mimetype": "text/x-python",
   "name": "python",
   "nbconvert_exporter": "python",
   "pygments_lexer": "ipython3",
   "version": "3.8.8"
  }
 },
 "nbformat": 4,
 "nbformat_minor": 5
}
