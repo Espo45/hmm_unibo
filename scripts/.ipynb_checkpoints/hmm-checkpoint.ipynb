{
 "cells": [
  {
   "cell_type": "code",
   "execution_count": 1,
   "id": "1aa2e978",
   "metadata": {},
   "outputs": [],
   "source": [
    "import numpy as np\n",
    "import pandas as pd\n",
    "import sklearn as sk\n",
    "import matplotlib.pyplot as plt"
   ]
  },
  {
   "cell_type": "code",
   "execution_count": 2,
   "id": "57ad753c",
   "metadata": {},
   "outputs": [],
   "source": [
    "data = pd.read_csv('../../HiddenMarkovModel-master/part2/data_python.csv')\n",
    "O = data.Visible.values\n",
    "A = np.array(((0.54, 0.46), (0.49, 0.51)))\n",
    "B = np.array(((0.16, 0.26, 0.58), (0.25, 0.28, 0.47)))\n",
    "pi = np.array((0.5, 0.5))"
   ]
  }
 ],
 "metadata": {
  "kernelspec": {
   "display_name": "Python 3 (ipykernel)",
   "language": "python",
   "name": "python3"
  },
  "language_info": {
   "codemirror_mode": {
    "name": "ipython",
    "version": 3
   },
   "file_extension": ".py",
   "mimetype": "text/x-python",
   "name": "python",
   "nbconvert_exporter": "python",
   "pygments_lexer": "ipython3",
   "version": "3.8.8"
  }
 },
 "nbformat": 4,
 "nbformat_minor": 5
}
